{
 "cells": [
  {
   "cell_type": "markdown",
   "metadata": {},
   "source": [
    "# boto3 library\n",
    "\n",
    "\n",
    "`boto3` is the Python SDK for AWS (Amazon Web Service).  \n",
    "It is the python library used to interact with all AWS services (S3, EC2, DynamoDB...). \n",
    "\n",
    "This SDK contains an extremely large number of methods, all with a lot of options, across all available AWS services.   \n",
    "This tutorial just shows the main concepts and code samples for a few actions.  \n",
    "For a full guide on this library, refer to the official AWS documentation : https://boto3.amazonaws.com/v1/documentation/api/latest/index.html\n",
    "\n",
    "\n",
    "### Setup\n",
    "\n",
    "To use the AWS SDK, we need to be authenticated in an AWS account.  \n",
    "- create an AWS account if needed\n",
    "- install the AWS CLI locally\n",
    "- run `aws configure` from a local terminal to save the AWS account access/secret keys under `~/.aws/credentials` and the default region under `~/.aws/config`\n",
    "\n",
    "Alternatively, you can just open an AWS CloudShell from the AWS console and use `boto3` from a python script inside it.  \n",
    "The CloudAWS Shell comes with a pre-installed AWS CLI and inherits the credentials from the logged user by default.\n",
    "\n",
    "\n",
    "### Concepts of the boto3 SDK\n",
    "\n",
    "A **client** is a low-level interface to an AWS service offering methods for each possible API call.  \n",
    "This is the original way to call the AWS API from Python.\n",
    "\n",
    "A **resource** is an object-oriented interface to an AWS service providing a higher level of abstraction.  \n",
    "The resource has a number of attributes and methods specific to the service they apply to.  \n",
    "The resource API is newer and does not support yet all possible API calls.\n",
    "\n",
    "\n",
    "### Example with an S3 client\n",
    "\n",
    "The below code creates a new bucket in S3, adds a file in it, then remove the file and delete the bucket using the `client` interface."
   ]
  },
  {
   "cell_type": "code",
   "execution_count": 82,
   "metadata": {},
   "outputs": [
    {
     "data": {
      "text/plain": [
       "{'ResponseMetadata': {'RequestId': 'VD9E8W0N3Q1ZQXBD',\n",
       "  'HostId': '5Rgg3IWS+IDSY3L3AbytM/vlZsp0XEN/eIlpdHsQgfu5h/Rub8lQI52LLMaISxJFrx+8C6Actqs=',\n",
       "  'HTTPStatusCode': 204,\n",
       "  'HTTPHeaders': {'x-amz-id-2': '5Rgg3IWS+IDSY3L3AbytM/vlZsp0XEN/eIlpdHsQgfu5h/Rub8lQI52LLMaISxJFrx+8C6Actqs=',\n",
       "   'x-amz-request-id': 'VD9E8W0N3Q1ZQXBD',\n",
       "   'date': 'Sat, 03 Jul 2021 15:11:21 GMT',\n",
       "   'server': 'AmazonS3'},\n",
       "  'RetryAttempts': 0}}"
      ]
     },
     "execution_count": 82,
     "metadata": {},
     "output_type": "execute_result"
    }
   ],
   "source": [
    "import boto3\n",
    "import time\n",
    "\n",
    "\n",
    "# Create an S3 client\n",
    "s3 = boto3.client('s3')\n",
    "\n",
    "# Iterable list of buckets in this account\n",
    "s3.list_buckets()['Buckets']\n",
    "\n",
    "# Create a new bucket\n",
    "bucket_name = 'test-bucket-' + str(int(time.time()))   # globally unique bucket name\n",
    "location    = {'LocationConstraint': 'ap-northeast-1'}\n",
    "s3.create_bucket(\n",
    "    Bucket=bucket_name,\n",
    "    CreateBucketConfiguration=location)\n",
    "\n",
    "# Create a file in this bucket\n",
    "file_name = 'test.txt'\n",
    "s3.put_object(\n",
    "    Body=file_name,\n",
    "    Bucket=bucket_name,\n",
    "    Key=file_name)\n",
    "\n",
    "# Delete the file in this bucket\n",
    "s3.delete_object(Bucket=bucket_name, Key=file_name)\n",
    "\n",
    "# Delete the bucket\n",
    "s3.delete_bucket(Bucket=bucket_name)"
   ]
  },
  {
   "cell_type": "markdown",
   "metadata": {},
   "source": [
    "### Example with an S3 resource\n",
    "\n",
    "The below code performs the exact same actions as above, but using a `resource` interface instead of a `client` :"
   ]
  },
  {
   "cell_type": "code",
   "execution_count": 83,
   "metadata": {},
   "outputs": [
    {
     "data": {
      "text/plain": [
       "{'ResponseMetadata': {'RequestId': 'X7HFCTYPDWGRGH12',\n",
       "  'HostId': 'ADRc0tXtsJd/6qXZ4Evq8qEdEhX7UpUSY7GaAbyYPtDxrZbUy0lwnCwUnZCEaviC8u3pssi13cM=',\n",
       "  'HTTPStatusCode': 204,\n",
       "  'HTTPHeaders': {'x-amz-id-2': 'ADRc0tXtsJd/6qXZ4Evq8qEdEhX7UpUSY7GaAbyYPtDxrZbUy0lwnCwUnZCEaviC8u3pssi13cM=',\n",
       "   'x-amz-request-id': 'X7HFCTYPDWGRGH12',\n",
       "   'date': 'Sat, 03 Jul 2021 15:11:23 GMT',\n",
       "   'server': 'AmazonS3'},\n",
       "  'RetryAttempts': 0}}"
      ]
     },
     "execution_count": 83,
     "metadata": {},
     "output_type": "execute_result"
    }
   ],
   "source": [
    "# Create an S3 resource\n",
    "s3 = boto3.resource('s3')\n",
    "\n",
    "# Iterable list of buckets\n",
    "# With the resource interface we have a \"buckets\" attribute wrapping the API call\n",
    "s3.buckets.all()\n",
    "\n",
    "# Create a new bucket\n",
    "# With the resource interface, we can instanciate a new Bucket object\n",
    "bucket_name = 'test-bucket-' + str(int(time.time()))   # globally unique bucket name\n",
    "location    = {'LocationConstraint': 'ap-northeast-1'}\n",
    "s3.Bucket(name=bucket_name).create(CreateBucketConfiguration=location)\n",
    "\n",
    "# Create a file in this bucket    \n",
    "file_name = 'test.txt'\n",
    "s3.Object(bucket_name, file_name).put(Body=open(file_name, 'rb'))\n",
    "\n",
    "# Delete the file in this bucket\n",
    "s3.Bucket(name=bucket_name).delete_objects(\n",
    "    Delete={\n",
    "        'Objects': [\n",
    "            {'Key': file_name}\n",
    "        ]\n",
    "    })\n",
    "\n",
    "# Delete this bucket\n",
    "s3.Bucket(name=bucket_name).delete()"
   ]
  },
  {
   "cell_type": "markdown",
   "metadata": {},
   "source": [
    "### Sample SQS code\n",
    "\n",
    "The below code creates a queue in AWS SQS (Simple QUeue Service), sends a message to it, polls and deletes the message, and finally deletes the queue."
   ]
  },
  {
   "cell_type": "code",
   "execution_count": 126,
   "metadata": {},
   "outputs": [
    {
     "name": "stdout",
     "output_type": "stream",
     "text": [
      "AQEBiFY4PxJ4dcvkhihKHO6J6OMYVQgu8iNQP19VAe1DFAXHTtnp/pVmtIQvwKUrWmUnKqRhMVV9mcAD1yiPVfDxWlv90G9bjCG8fqZ3nQJfbwU+OK77oaNmXeRy/kihnvAdF5ehxgTG0KZ83y2+D63YHEfrziJDjDe8ifHV6/nYr7zH+lyfFtJSww/2/398kK/i/+UkhpjdvtnprmE+S+mqZZJRWkzLb3qNQ+fqhB3Y/YXV7yEBJSXZDdqKzQfd8Bwyq/Vw0FFIwdoYzGy29bEK/v1ID5DPg8L97Mf7ROOM92MMpV+ZtjwNorMgp6rX1P8oDZuSIhj7MHELMCfQL2tcmUdlyPRojlTrIpyqRekBf+TDXD1uEIa/Xa0ydqzdUy9I10Lt+ODEfpfRwGFbZhl/7/yb02Sz2lYdnCX1cH3rxao=\n"
     ]
    },
    {
     "data": {
      "text/plain": [
       "{'ResponseMetadata': {'RequestId': '4147a085-a0dc-5925-9807-f9de8593340c',\n",
       "  'HTTPStatusCode': 200,\n",
       "  'HTTPHeaders': {'x-amzn-requestid': '4147a085-a0dc-5925-9807-f9de8593340c',\n",
       "   'date': 'Sun, 04 Jul 2021 02:55:11 GMT',\n",
       "   'content-type': 'text/xml',\n",
       "   'content-length': '211'},\n",
       "  'RetryAttempts': 0}}"
      ]
     },
     "execution_count": 126,
     "metadata": {},
     "output_type": "execute_result"
    }
   ],
   "source": [
    "# Create the client\n",
    "sqs = boto3.client('sqs')\n",
    "\n",
    "# Create a queue\n",
    "queue_name = 'boto3-test-queue-' + str(int(time.time()))\n",
    "queue      = sqs.create_queue(QueueName=queue_name)\n",
    "queue_url  = queue['QueueUrl']\n",
    "\n",
    "# Poll a message from the queue\n",
    "response = sqs.receive_message(QueueUrl=queue_url)\n",
    "assert 'Messages' not in response     # No actual message returned since the queue is empty\n",
    "\n",
    "# Send a message to the queue\n",
    "sqs.send_message(\n",
    "    QueueUrl=queue_url,\n",
    "    MessageAttributes={\n",
    "        'Title': {\n",
    "            'DataType': 'String',\n",
    "            'StringValue': 'The Three-Body Problem'\n",
    "        },\n",
    "        'Author': {\n",
    "            'DataType': 'String',\n",
    "            'StringValue': 'Liu Cixin'\n",
    "        }\n",
    "    },\n",
    "    MessageBody='Book Suggestion'\n",
    ")\n",
    "\n",
    "# Receive a message\n",
    "response = sqs.receive_message(\n",
    "    QueueUrl=queue_url,\n",
    "    MaxNumberOfMessages=1,\n",
    "    MessageAttributeNames=['All'],   # By default, do not fetch the message attribute\n",
    "    VisibilityTimeout=10)\n",
    "\n",
    "assert 'Messages' in response\n",
    "msg = response['Messages'][0]\n",
    "assert msg['Body'] == 'Book Suggestion'\n",
    "assert msg['MessageAttributes']['Author']['StringValue'] == 'Liu Cixin'\n",
    "\n",
    "# Delete the message from the queue (so it cannot be polled again)\n",
    "receipt = msg['ReceiptHandle']\n",
    "print(receipt)\n",
    "sqs.delete_message(\n",
    "    QueueUrl=queue_url,\n",
    "    ReceiptHandle=receipt\n",
    ")\n",
    "\n",
    "# Delete the queue\n",
    "sqs.delete_queue(QueueUrl=queue['QueueUrl'])"
   ]
  }
 ],
 "metadata": {
  "kernelspec": {
   "display_name": "Python 3",
   "language": "python",
   "name": "python3"
  },
  "language_info": {
   "codemirror_mode": {
    "name": "ipython",
    "version": 3
   },
   "file_extension": ".py",
   "mimetype": "text/x-python",
   "name": "python",
   "nbconvert_exporter": "python",
   "pygments_lexer": "ipython3",
   "version": "3.8.6"
  }
 },
 "nbformat": 4,
 "nbformat_minor": 4
}
