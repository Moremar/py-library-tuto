{
 "cells": [
  {
   "cell_type": "markdown",
   "metadata": {},
   "source": [
    "# boto3 library\n",
    "\n",
    "\n",
    "`boto3` is the Python SDK for AWS (Amazon Web Service).  \n",
    "It is the python library used to interact with all AWS services (S3, EC2, DynamoDB...). \n",
    "\n",
    "This SDK contains an extremely large number of methods, all with a lot of options, across all available AWS services.   \n",
    "This tutorial just shows the main concepts and code samples for a few actions.  \n",
    "For a full guide on this library, refer to the official AWS documentation : https://boto3.amazonaws.com/v1/documentation/api/latest/index.html\n",
    "\n",
    "\n",
    "### Setup\n",
    "\n",
    "To use the AWS SDK, we need to be authenticated in an AWS account.  \n",
    "- create an AWS account if needed\n",
    "- install the AWS CLI locally\n",
    "- run `aws configure` from a local terminal to save the AWS account access/secret keys under `~/.aws/credentials` and the default region under `~/.aws/config`\n",
    "\n",
    "Alternatively, you can just open an AWS CloudShell from the AWS console and use `boto3` from a python script inside it.  \n",
    "The CloudAWS Shell comes with a pre-installed AWS CLI and inherits the credentials from the logged user by default.\n",
    "\n",
    "\n",
    "### Concepts of the boto3 SDK\n",
    "\n",
    "A **client** is a low-level interface to an AWS service offering methods for each possible API call.  \n",
    "This is the original way to call the AWS API from Python.\n",
    "\n",
    "A **resource** is an object-oriented interface to an AWS service providing a higher level of abstraction.  \n",
    "The resource has a number of attributes and methods specific to the service they apply to.  \n",
    "The resource API is newer and does not support yet all possible API calls.\n",
    "\n",
    "\n",
    "### Example with an S3 client\n",
    "\n",
    "The below code creates a new bucket in S3, adds a file in it, then remove the file and delete the bucket using the `client` interface."
   ]
  },
  {
   "cell_type": "code",
   "execution_count": 201,
   "metadata": {},
   "outputs": [
    {
     "data": {
      "text/plain": [
       "{'ResponseMetadata': {'RequestId': 'S60SPQ0HQ3QK8CGK',\n",
       "  'HostId': 'fpmrR5EkKo91Tn7+UGdQTmln3YLxDYBY8qejjSxgPFkIOLBmRKw09j1suVq54KvVu/WR6VOhaWg=',\n",
       "  'HTTPStatusCode': 204,\n",
       "  'HTTPHeaders': {'x-amz-id-2': 'fpmrR5EkKo91Tn7+UGdQTmln3YLxDYBY8qejjSxgPFkIOLBmRKw09j1suVq54KvVu/WR6VOhaWg=',\n",
       "   'x-amz-request-id': 'S60SPQ0HQ3QK8CGK',\n",
       "   'date': 'Sun, 04 Jul 2021 07:12:42 GMT',\n",
       "   'server': 'AmazonS3'},\n",
       "  'RetryAttempts': 0}}"
      ]
     },
     "execution_count": 201,
     "metadata": {},
     "output_type": "execute_result"
    }
   ],
   "source": [
    "import boto3\n",
    "import requests\n",
    "import time\n",
    "\n",
    "\n",
    "# Create an S3 client\n",
    "s3 = boto3.client('s3')\n",
    "\n",
    "# Iterable list of buckets in this account\n",
    "s3.list_buckets()['Buckets']\n",
    "\n",
    "# Create a new bucket\n",
    "bucket_name = 'test-bucket-' + str(int(time.time()))   # globally unique bucket name\n",
    "location    = {'LocationConstraint': 'ap-northeast-1'}\n",
    "s3.create_bucket(\n",
    "    Bucket=bucket_name,\n",
    "    CreateBucketConfiguration=location)\n",
    "\n",
    "# Create a file in this bucket\n",
    "file_name = 'test.txt'\n",
    "s3.put_object(\n",
    "    Body=file_name,\n",
    "    Bucket=bucket_name,\n",
    "    Key=file_name)\n",
    "\n",
    "# Delete the file in this bucket\n",
    "s3.delete_object(Bucket=bucket_name, Key=file_name)\n",
    "\n",
    "# Delete the bucket\n",
    "s3.delete_bucket(Bucket=bucket_name)"
   ]
  },
  {
   "cell_type": "markdown",
   "metadata": {},
   "source": [
    "### Example with an S3 resource\n",
    "\n",
    "The below code performs the exact same actions as above, but using a `resource` instead of a `client` interface.  \n",
    "Instead of performing all API calls by providing a resource ID, we now have a `Bucket` and an `Object` class to represent the S3 concepts."
   ]
  },
  {
   "cell_type": "code",
   "execution_count": 202,
   "metadata": {},
   "outputs": [
    {
     "data": {
      "text/plain": [
       "{'ResponseMetadata': {'RequestId': 'PG6WWW6EBN01WB15',\n",
       "  'HostId': 'LPtmW4vQaKJGeCo/fkoOR0A0wGetMQwGZqK3K/jcnJzYAAk7DzZEQzw69YdifH1/5sMlLQhynH0=',\n",
       "  'HTTPStatusCode': 204,\n",
       "  'HTTPHeaders': {'x-amz-id-2': 'LPtmW4vQaKJGeCo/fkoOR0A0wGetMQwGZqK3K/jcnJzYAAk7DzZEQzw69YdifH1/5sMlLQhynH0=',\n",
       "   'x-amz-request-id': 'PG6WWW6EBN01WB15',\n",
       "   'date': 'Sun, 04 Jul 2021 07:12:44 GMT',\n",
       "   'server': 'AmazonS3'},\n",
       "  'RetryAttempts': 0}}"
      ]
     },
     "execution_count": 202,
     "metadata": {},
     "output_type": "execute_result"
    }
   ],
   "source": [
    "# Create an S3 resource\n",
    "s3 = boto3.resource('s3')\n",
    "\n",
    "# Iterable list of buckets\n",
    "# With the resource interface we have a \"buckets\" attribute wrapping the API call\n",
    "s3.buckets.all()\n",
    "\n",
    "# Create a new bucket\n",
    "# With the resource interface, we can instanciate a new Bucket object\n",
    "bucket_name = 'test-bucket-' + str(int(time.time()))   # globally unique bucket name\n",
    "location    = {'LocationConstraint': 'ap-northeast-1'}\n",
    "s3.Bucket(name=bucket_name).create(CreateBucketConfiguration=location)\n",
    "\n",
    "# Create a file in this bucket    \n",
    "file_name = 'test.txt'\n",
    "s3.Object(bucket_name, file_name).put(Body=open(file_name, 'rb'))\n",
    "\n",
    "# Delete the file in this bucket\n",
    "s3.Bucket(name=bucket_name).delete_objects(\n",
    "    Delete={\n",
    "        'Objects': [\n",
    "            {'Key': file_name}\n",
    "        ]\n",
    "    })\n",
    "\n",
    "# Delete this bucket\n",
    "s3.Bucket(name=bucket_name).delete()"
   ]
  },
  {
   "cell_type": "markdown",
   "metadata": {},
   "source": [
    "### Sample SQS code\n",
    "\n",
    "The below code interacts with the SQS service (Simple Queue service) and performs the following actions:\n",
    "- Create an SQS queue\n",
    "- Ensure the queue is empty\n",
    "- Send a message to the queue\n",
    "- Poll the message from the queue\n",
    "- Deletes the message from the queue\n",
    "- Deletes the queue"
   ]
  },
  {
   "cell_type": "code",
   "execution_count": 203,
   "metadata": {},
   "outputs": [
    {
     "name": "stdout",
     "output_type": "stream",
     "text": [
      "AQEBQM7pC1Sq4HLwhNxembkbMJHN5P4JFNZPpawCNZ83npRmJ8QoV5KQok67qeP7KRAklghDinV719iXCnJVR01SWqJq6BLqXKXtInVy5bgsVWUeJH9hGVy0Lf96815IkG8zt6OL3YjH2FpQ0hw8iz9cs9Ih+tydCJvmcD7YPN5G/r6xKphTxmFxLZcODABilgEC/8n/dbdiuYlNl3+KWgnVLuHibnuhXBSzQcBbiohfZ42Bay/QLrt0c0f69QWiMp/xsLYqGJLWRObRq/OlF2g7VtmhtkJ9fxcUJEkjANZprlhxMjdPqL+3XJXS9606dmt5XN67hkyBSwhoka+A1KvR26SCk9mzeCijDJs5niJkui/WK8tIIZy+N6UajZJUhXhGxNAHosYntqx3ODTnQaL/ijnNzwUjz85XYxkcmZAyDj4=\n"
     ]
    },
    {
     "data": {
      "text/plain": [
       "{'ResponseMetadata': {'RequestId': 'bde1c41b-9adc-5af1-aa97-9d40fb703dee',\n",
       "  'HTTPStatusCode': 200,\n",
       "  'HTTPHeaders': {'x-amzn-requestid': 'bde1c41b-9adc-5af1-aa97-9d40fb703dee',\n",
       "   'date': 'Sun, 04 Jul 2021 07:12:44 GMT',\n",
       "   'content-type': 'text/xml',\n",
       "   'content-length': '211'},\n",
       "  'RetryAttempts': 0}}"
      ]
     },
     "execution_count": 203,
     "metadata": {},
     "output_type": "execute_result"
    }
   ],
   "source": [
    "# Create the client\n",
    "sqs = boto3.client('sqs')\n",
    "\n",
    "# Create a queue\n",
    "queue_name = 'boto3-test-queue-' + str(int(time.time()))\n",
    "queue      = sqs.create_queue(QueueName=queue_name)\n",
    "queue_url  = queue['QueueUrl']\n",
    "\n",
    "# Poll a message from the queue\n",
    "response = sqs.receive_message(QueueUrl=queue_url)\n",
    "assert 'Messages' not in response     # No actual message returned since the queue is empty\n",
    "\n",
    "# Send a message to the queue\n",
    "sqs.send_message(\n",
    "    QueueUrl=queue_url,\n",
    "    MessageAttributes={\n",
    "        'Title': {\n",
    "            'DataType': 'String',\n",
    "            'StringValue': 'The Three-Body Problem'\n",
    "        },\n",
    "        'Author': {\n",
    "            'DataType': 'String',\n",
    "            'StringValue': 'Liu Cixin'\n",
    "        }\n",
    "    },\n",
    "    MessageBody='Book Suggestion'\n",
    ")\n",
    "\n",
    "# Receive a message\n",
    "response = sqs.receive_message(\n",
    "    QueueUrl=queue_url,\n",
    "    MaxNumberOfMessages=1,\n",
    "    MessageAttributeNames=['All'],   # By default, do not fetch the message attribute\n",
    "    VisibilityTimeout=10)\n",
    "\n",
    "assert 'Messages' in response\n",
    "msg = response['Messages'][0]\n",
    "assert msg['Body'] == 'Book Suggestion'\n",
    "assert msg['MessageAttributes']['Author']['StringValue'] == 'Liu Cixin'\n",
    "\n",
    "# Delete the message from the queue (so it cannot be polled again)\n",
    "receipt = msg['ReceiptHandle']\n",
    "print(receipt)\n",
    "sqs.delete_message(\n",
    "    QueueUrl=queue_url,\n",
    "    ReceiptHandle=receipt\n",
    ")\n",
    "\n",
    "# Delete the queue\n",
    "sqs.delete_queue(QueueUrl=queue['QueueUrl'])"
   ]
  },
  {
   "cell_type": "markdown",
   "metadata": {},
   "source": [
    "### Sample EC2 code\n",
    "\n",
    "The below code interacts with the EC2 service and performs the following actions :\n",
    "- Create a security group in the default VPC\n",
    "- Add some rules in the security group to allow HTTP, HTTPS and SSH ingress traffic\n",
    "- Create an EC2 instance running a simple Apache web server (in the security group created above)\n",
    "- Wait for the EC2 instance to be running and the web server to be ready\n",
    "- Query the web server\n",
    "- Shutdown the EC2 instance and wait for its termination\n",
    "- Delete the security group"
   ]
  },
  {
   "cell_type": "code",
   "execution_count": 204,
   "metadata": {},
   "outputs": [
    {
     "name": "stdout",
     "output_type": "stream",
     "text": [
      "Waiting for the EC2 instance to be running...\n",
      "The EC2 instance is running after 45 seconds.\n",
      "Public IPv4: 54.178.27.40\n",
      "Private DNS: ip-172-31-46-59.ap-northeast-1.compute.internal\n",
      "The web server is not started yet, waiting for 10s...\n",
      "The web server is not started yet, waiting for 10s...\n",
      "The web server is not started yet, waiting for 10s...\n",
      "The web server is not started yet, waiting for 10s...\n",
      "The web server is not started yet, waiting for 10s...\n",
      "The web server returned : Hello World from ip-172-31-46-59.ap-northeast-1.compute.internal\n",
      "\n"
     ]
    },
    {
     "data": {
      "text/plain": [
       "{'ResponseMetadata': {'RequestId': 'ec9c90f0-9461-4017-a767-1e49b789e7c9',\n",
       "  'HTTPStatusCode': 200,\n",
       "  'HTTPHeaders': {'x-amzn-requestid': 'ec9c90f0-9461-4017-a767-1e49b789e7c9',\n",
       "   'cache-control': 'no-cache, no-store',\n",
       "   'strict-transport-security': 'max-age=31536000; includeSubDomains',\n",
       "   'content-type': 'text/xml;charset=UTF-8',\n",
       "   'content-length': '239',\n",
       "   'date': 'Sun, 04 Jul 2021 07:15:27 GMT',\n",
       "   'server': 'AmazonEC2'},\n",
       "  'RetryAttempts': 0}}"
      ]
     },
     "execution_count": 204,
     "metadata": {},
     "output_type": "execute_result"
    }
   ],
   "source": [
    "# Create an EC2 client\n",
    "ec2 = boto3.resource('ec2')\n",
    "\n",
    "# Create a security group\n",
    "sg_name = 'boto3-sg'\n",
    "sg = ec2.create_security_group(\n",
    "   Description='Test SG created from boto3',\n",
    "   GroupName=sg_name\n",
    ")\n",
    "\n",
    "# Allow inbound traffic on port 80 (HTTP), 443 (HTTPS) amd 22 (SSH) for the security group\n",
    "sg.authorize_ingress(\n",
    "    IpPermissions=[\n",
    "        {\n",
    "            'FromPort': 80,\n",
    "            'ToPort': 80,\n",
    "            'IpProtocol': 'tcp',\n",
    "            'IpRanges': [{ 'CidrIp': '0.0.0.0/0', 'Description': 'HTTP public access'}]\n",
    "        },\n",
    "        {\n",
    "            'FromPort': 443,\n",
    "            'ToPort': 443,\n",
    "            'IpProtocol': 'tcp',\n",
    "            'IpRanges': [{ 'CidrIp': '0.0.0.0/0', 'Description': 'HTTPS public access'}]\n",
    "        },\n",
    "        {\n",
    "            'FromPort': 22,\n",
    "            'ToPort': 22,\n",
    "            'IpProtocol': 'tcp',\n",
    "            'IpRanges': [{ 'CidrIp': '0.0.0.0/0', 'Description': 'SSH public access'}]\n",
    "        }\n",
    "    ])\n",
    "\n",
    "# Start an EC2 instance \n",
    "image_id = 'ami-06631ebafb3ae5d34'   # latest Amazon Linux 2 AMI\n",
    "user_data = \"\"\"#!/bin/bash\n",
    "yum update -y\n",
    "yum install -y httpd.x86_64\n",
    "systemctl start httpd.service\n",
    "systemctl enable httpd.service\n",
    "echo \"Hello World from $(hostname -f)\" > /var/www/html/index.html\"\"\"\n",
    "\n",
    "instances = ec2.create_instances(\n",
    "    ImageId=image_id,\n",
    "    MinCount=1,\n",
    "    MaxCount=1,\n",
    "    InstanceType='t2.micro',\n",
    "    SecurityGroups=[sg_name],\n",
    "    KeyName='boto3-key',\n",
    "    UserData=user_data\n",
    ")\n",
    "instance = instances[0]\n",
    "\n",
    "# Wait for the EC2 instance to be running\n",
    "print('Waiting for the EC2 instance to be running...')\n",
    "start = time.time()\n",
    "instance.wait_until_running()\n",
    "end = time.time()\n",
    "print('The EC2 instance is running after {0} seconds.'.format(int(end-start)))\n",
    "\n",
    "# Get the public IPv4 of the EC2 instance\n",
    "instance.load()       # load the lazy-loading attributes (including public IPv4)\n",
    "public_ipv4 = instance.public_ip_address\n",
    "private_dns = instance.private_dns_name\n",
    "print('Public IPv4: {0}'.format(public_ipv4))\n",
    "print('Private DNS: {0}'.format(private_dns))\n",
    "\n",
    "# Query the web server on the EC2 instance\n",
    "# Once the EC2 instance is up, it takes about a minute for the web server to be running\n",
    "url = 'http://{0}'.format(public_ipv4)\n",
    "res = None\n",
    "while res is None:\n",
    "    try:\n",
    "        res = requests.get(url)\n",
    "        print('The web server returned : ' + res.text)\n",
    "    \n",
    "    except Exception as e:\n",
    "        print('The web server is not started yet, waiting for 10s...')\n",
    "        time.sleep(10)\n",
    "        \n",
    "# Terminate the EC2 instance\n",
    "instance.terminate()\n",
    "instance.wait_until_terminated()\n",
    "\n",
    "# Delete the security group\n",
    "sg.delete()"
   ]
  }
 ],
 "metadata": {
  "kernelspec": {
   "display_name": "Python 3",
   "language": "python",
   "name": "python3"
  },
  "language_info": {
   "codemirror_mode": {
    "name": "ipython",
    "version": 3
   },
   "file_extension": ".py",
   "mimetype": "text/x-python",
   "name": "python",
   "nbconvert_exporter": "python",
   "pygments_lexer": "ipython3",
   "version": "3.8.6"
  }
 },
 "nbformat": 4,
 "nbformat_minor": 4
}
