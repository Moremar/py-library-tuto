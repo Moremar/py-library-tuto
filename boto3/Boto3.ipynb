{
 "cells": [
  {
   "cell_type": "markdown",
   "metadata": {},
   "source": [
    "# boto3 library\n",
    "\n",
    "\n",
    "`boto3` is the Python SDK for AWS (Amazon Web Service).  \n",
    "It is the python library used to interact with all AWS services (S3, EC2, DynamoDB...). \n",
    "\n",
    "\n",
    "### Setup\n",
    "\n",
    "To use the AWS SDK, we need to be authenticated in an AWS account.  \n",
    "- create an AWS account if needed\n",
    "- install the AWS CLI locally\n",
    "- run `aws configure` from a local terminal to save the AWS account access/secret keys under `~/.aws/credentials` and the default region under `~/.aws/config`\n",
    "\n",
    "Alternatively, you can just open an AWS CloudShell from the AWS console and use `boto3` from a python script inside it.  \n",
    "The CloudAWS Shell comes with a pre-installed AWS CLI and inherits the credentials from the logged user by default.\n",
    "\n",
    "\n",
    "### Concepts of the boto3 SDK\n",
    "\n",
    "A **client** is a low-level interface to an AWS service offering methods for each possible API call.  \n",
    "This is the original way to call the AWS API from Python.\n",
    "\n",
    "A **resource** is an object-oriented interface to an AWS service providing a higher level of abstraction.  \n",
    "The resource has a number of attributes and methods specific to the service they apply to.  \n",
    "The resource API is newer and does not support yet all possible API calls.\n",
    "\n",
    "\n",
    "### Example with an S3 client\n",
    "\n",
    "The below code creates a new bucket in S3, adds a file in it, then remove the file and delete the bucket using the `client` interface."
   ]
  },
  {
   "cell_type": "code",
   "execution_count": 82,
   "metadata": {},
   "outputs": [
    {
     "data": {
      "text/plain": [
       "{'ResponseMetadata': {'RequestId': 'VD9E8W0N3Q1ZQXBD',\n",
       "  'HostId': '5Rgg3IWS+IDSY3L3AbytM/vlZsp0XEN/eIlpdHsQgfu5h/Rub8lQI52LLMaISxJFrx+8C6Actqs=',\n",
       "  'HTTPStatusCode': 204,\n",
       "  'HTTPHeaders': {'x-amz-id-2': '5Rgg3IWS+IDSY3L3AbytM/vlZsp0XEN/eIlpdHsQgfu5h/Rub8lQI52LLMaISxJFrx+8C6Actqs=',\n",
       "   'x-amz-request-id': 'VD9E8W0N3Q1ZQXBD',\n",
       "   'date': 'Sat, 03 Jul 2021 15:11:21 GMT',\n",
       "   'server': 'AmazonS3'},\n",
       "  'RetryAttempts': 0}}"
      ]
     },
     "execution_count": 82,
     "metadata": {},
     "output_type": "execute_result"
    }
   ],
   "source": [
    "import boto3\n",
    "import time\n",
    "\n",
    "\n",
    "# Create an S3 client\n",
    "s3 = boto3.client('s3')\n",
    "\n",
    "# Iterable list of buckets in this account\n",
    "s3.list_buckets()['Buckets']\n",
    "\n",
    "# Create a new bucket\n",
    "bucket_name = 'test-bucket-' + str(int(time.time()))   # globally unique bucket name\n",
    "location    = {'LocationConstraint': 'ap-northeast-1'}\n",
    "s3.create_bucket(\n",
    "    Bucket=bucket_name,\n",
    "    CreateBucketConfiguration=location)\n",
    "\n",
    "# Create a file in this bucket\n",
    "file_name = 'test.txt'\n",
    "s3.put_object(\n",
    "    Body=file_name,\n",
    "    Bucket=bucket_name,\n",
    "    Key=file_name)\n",
    "\n",
    "# Delete the file in this bucket\n",
    "s3.delete_object(Bucket=bucket_name, Key=file_name)\n",
    "\n",
    "# Delete the bucket\n",
    "s3.delete_bucket(Bucket=bucket_name)"
   ]
  },
  {
   "cell_type": "markdown",
   "metadata": {},
   "source": [
    "### Example with an S3 resource\n",
    "\n",
    "The below code performs the exact same actions as above, but using a `resource` interface instead of a `client` :"
   ]
  },
  {
   "cell_type": "code",
   "execution_count": 83,
   "metadata": {},
   "outputs": [
    {
     "data": {
      "text/plain": [
       "{'ResponseMetadata': {'RequestId': 'X7HFCTYPDWGRGH12',\n",
       "  'HostId': 'ADRc0tXtsJd/6qXZ4Evq8qEdEhX7UpUSY7GaAbyYPtDxrZbUy0lwnCwUnZCEaviC8u3pssi13cM=',\n",
       "  'HTTPStatusCode': 204,\n",
       "  'HTTPHeaders': {'x-amz-id-2': 'ADRc0tXtsJd/6qXZ4Evq8qEdEhX7UpUSY7GaAbyYPtDxrZbUy0lwnCwUnZCEaviC8u3pssi13cM=',\n",
       "   'x-amz-request-id': 'X7HFCTYPDWGRGH12',\n",
       "   'date': 'Sat, 03 Jul 2021 15:11:23 GMT',\n",
       "   'server': 'AmazonS3'},\n",
       "  'RetryAttempts': 0}}"
      ]
     },
     "execution_count": 83,
     "metadata": {},
     "output_type": "execute_result"
    }
   ],
   "source": [
    "# Create an S3 resource\n",
    "s3 = boto3.resource('s3')\n",
    "\n",
    "# Iterable list of buckets\n",
    "# With the resource interface we have a \"buckets\" attribute wrapping the API call\n",
    "s3.buckets.all()\n",
    "\n",
    "# Create a new bucket\n",
    "# With the resource interface, we can instanciate a new Bucket object\n",
    "bucket_name = 'test-bucket-' + str(int(time.time()))   # globally unique bucket name\n",
    "location    = {'LocationConstraint': 'ap-northeast-1'}\n",
    "s3.Bucket(name=bucket_name).create(CreateBucketConfiguration=location)\n",
    "\n",
    "# Create a file in this bucket    \n",
    "file_name = 'test.txt'\n",
    "s3.Object(bucket_name, file_name).put(Body=open(file_name, 'rb'))\n",
    "\n",
    "# Delete the file in this bucket\n",
    "s3.Bucket(name=bucket_name).delete_objects(\n",
    "    Delete={\n",
    "        'Objects': [\n",
    "            {'Key': file_name}\n",
    "        ]\n",
    "    })\n",
    "\n",
    "# Delete this bucket\n",
    "s3.Bucket(name=bucket_name).delete()"
   ]
  }
 ],
 "metadata": {
  "kernelspec": {
   "display_name": "Python 3",
   "language": "python",
   "name": "python3"
  },
  "language_info": {
   "codemirror_mode": {
    "name": "ipython",
    "version": 3
   },
   "file_extension": ".py",
   "mimetype": "text/x-python",
   "name": "python",
   "nbconvert_exporter": "python",
   "pygments_lexer": "ipython3",
   "version": "3.8.6"
  }
 },
 "nbformat": 4,
 "nbformat_minor": 4
}
