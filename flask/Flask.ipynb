{
 "cells": [
  {
   "cell_type": "markdown",
   "metadata": {},
   "source": [
    "# Flask \n",
    "\n",
    "Flask is a Python micro web framework created in 2010 (used by Pinterest and LinkedIn).  \n",
    "The main difference with bigger web frameworks like Django is that its core is very minimalist : it does not come pre-packaged with a lot of functionalities, it does not require any other library, and allows granularity by importing only extensions for the features we need.\n",
    "\n",
    "Flask has a lot of extensions offering various features such as validation, upload handling, authentication, database support...\n",
    "\n",
    "### Installation\n",
    "\n",
    "- Download the flask framework : `pip install flask`\n",
    "- Ensure it is correctly installed : `flask --version`\n",
    "\n",
    "### Hello World\n",
    "\n",
    "To run a Flask webapp, we just need to create an instance of `Flask` and run it.  \n",
    "To add routes to the webapp, we use the `app.route()` decorator."
   ]
  },
  {
   "cell_type": "code",
   "execution_count": null,
   "metadata": {},
   "outputs": [],
   "source": [
    "from flask import Flask\n",
    "\n",
    "app = Flask(__name__)\n",
    "\n",
    "@app.route('/')\n",
    "def hello():\n",
    "    return 'Hello world'\n",
    "\n",
    "if __name__ == '__main__':\n",
    "    app.run(debug=True)"
   ]
  },
  {
   "cell_type": "markdown",
   "metadata": {},
   "source": [
    "From a terminal, run it with `python app.py`, it should start the web server on port 5000 : http://127.0.0.1:5000/  \n",
    "The `debug` mode allows to reload automatically the web server on code change."
   ]
  },
  {
   "cell_type": "markdown",
   "metadata": {},
   "source": [
    "### Path parameters\n",
    "\n",
    "We can include a path parameter in the path of the decorator.  \n",
    "The parameter name and type must be specified.  \n",
    "The path parameter becomes available as a function parameter in the handler function."
   ]
  },
  {
   "cell_type": "code",
   "execution_count": null,
   "metadata": {},
   "outputs": [],
   "source": [
    "@app.route('/users/<string:user_name>/posts/<int:post_id>')\n",
    "def get_post(user_name, post_id):\n",
    "    return 'Fetching post ID %d for user %s' % (post_id, user_name)"
   ]
  },
  {
   "cell_type": "markdown",
   "metadata": {},
   "source": [
    "### Restrict methods\n",
    "\n",
    "We can restrict which HTTP methods are allowed for a given route :"
   ]
  },
  {
   "cell_type": "code",
   "execution_count": null,
   "metadata": {},
   "outputs": [],
   "source": [
    "from flask import requests\n",
    "\n",
    "@app.route('/users', methods=['GET', 'POST'])\n",
    "def get_users():\n",
    "    return 'Getting users with method %s' % request.method"
   ]
  },
  {
   "cell_type": "markdown",
   "metadata": {},
   "source": [
    "The method used can be accessed via the `request` variable provided in the `flask` module.\n",
    "\n",
    "### Templates\n",
    "\n",
    "Instead of returning a string to the browser, Flask can use a template file with the `render_template` import.  \n",
    "Create a `templates` sub-folder (this name is mandatory) and create a template in it."
   ]
  },
  {
   "cell_type": "code",
   "execution_count": null,
   "metadata": {},
   "outputs": [],
   "source": [
    "@app.route('/index')\n",
    "def index_template():\n",
    "    return render_template('index.html')"
   ]
  },
  {
   "cell_type": "markdown",
   "metadata": {},
   "source": [
    "The Flask templates use the Jinja web templating engine.  \n",
    "A template can inherit from another one, and contain some blocks that children templates can customize.  \n",
    "\n",
    "Some common Jinja tags are :\n",
    "- `{% block xxx %} ... {% endblock %}` to create a block that a child template can populate.\n",
    "- `{% for x in my_list xxx %} ... {% endfor %}` to loop on all items of a Python list.\n",
    "- `{% if condition %} ... {% else %} ... {% endif %}` to conditionally add some content in the template.\n",
    "\n",
    "\n",
    "For example a `base.html` template for HTML pages could be :"
   ]
  },
  {
   "cell_type": "code",
   "execution_count": null,
   "metadata": {},
   "outputs": [],
   "source": [
    "<!DOCTYPE HTML>\n",
    "<html>\n",
    "<head>\n",
    "    <meta charset=\"utf-8\" />\n",
    "    <title> {% block title %} {% endblock %} </title>\n",
    "</head>\n",
    "<body>\n",
    "    {% block body %} {% endblock %}\n",
    "</body>\n",
    "</html>"
   ]
  },
  {
   "cell_type": "markdown",
   "metadata": {},
   "source": [
    "And a child template could extend this base template and populate the `title` and `body` blocks :"
   ]
  },
  {
   "cell_type": "code",
   "execution_count": null,
   "metadata": {
    "collapsed": true
   },
   "outputs": [],
   "source": [
    "{% extends 'base.html' %}\n",
    "\n",
    "{% block title %}\n",
    "Home\n",
    "{% endblock %}\n",
    "\n",
    "{% block body %}\n",
    "<h1>Home page</h1>\n",
    "{% endblock %}"
   ]
  },
  {
   "cell_type": "markdown",
   "metadata": {},
   "source": [
    "Templates can receive parameters from the Python code.  \n",
    "We can send a list of dict, and then loop on this list in the template with the `{% for x in my_list %}` Jinja tag.  \n",
    "Some Python code can also be included in the template with the `{{ python code }}` notation."
   ]
  },
  {
   "cell_type": "code",
   "execution_count": null,
   "metadata": {},
   "outputs": [],
   "source": [
    "{% block body %}\n",
    "<h2>Friends list :</h2>\n",
    "<ul>\n",
    "{% for friend in friends %}\n",
    "    <li> {{ friend.name }} \n",
    "        {% if friend.age %}({{friend.age}} years old) {% endif %}\n",
    "        who likes {{ friend.hobby }} </li>\n",
    "{% endfor %}\n",
    "</ul>\n",
    "{% endblock %}"
   ]
  },
  {
   "cell_type": "markdown",
   "metadata": {},
   "source": [
    "### Static files\n",
    "\n",
    "Flask can serve static content, it needs to be added under a `static/` subfolder.  \n",
    "This can for example contain subfolders for css, javascript, image files...\n",
    "\n",
    "Files under this `static` folder can be referenced from a template, for example :"
   ]
  },
  {
   "cell_type": "code",
   "execution_count": null,
   "metadata": {},
   "outputs": [],
   "source": [
    "<link rel=\"stylesheet\" href=\"static/css/app.css\" />"
   ]
  },
  {
   "cell_type": "markdown",
   "metadata": {},
   "source": [
    "The recommended way is to use the `url_for()` Flask method instead, that allows runtime parameters :"
   ]
  },
  {
   "cell_type": "code",
   "execution_count": null,
   "metadata": {},
   "outputs": [],
   "source": [
    "<link rel=\"stylesheet\" href=\"{{ url_for('static', filename='css/app.css') }}\" />"
   ]
  }
 ],
 "metadata": {
  "kernelspec": {
   "display_name": "Python 3",
   "language": "python",
   "name": "python3"
  },
  "language_info": {
   "codemirror_mode": {
    "name": "ipython",
    "version": 3
   },
   "file_extension": ".py",
   "mimetype": "text/x-python",
   "name": "python",
   "nbconvert_exporter": "python",
   "pygments_lexer": "ipython3",
   "version": "3.8.6"
  }
 },
 "nbformat": 4,
 "nbformat_minor": 4
}
