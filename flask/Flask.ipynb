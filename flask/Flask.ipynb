{
 "cells": [
  {
   "cell_type": "markdown",
   "metadata": {},
   "source": [
    "# Flask web framework\n",
    "\n",
    "Flask is a Python micro web framework created in 2010 (used by Pinterest and LinkedIn).  \n",
    "The main difference with bigger web frameworks like Django is that its core is very minimalist : it does not come pre-packaged with a lot of functionalities, it does not require any other library, and allows granularity by importing only extensions for the features we need.\n",
    "\n",
    "Flask has a lot of extensions offering various features such as validation, upload handling, authentication, database support...\n",
    "\n",
    "### Installation\n",
    "\n",
    "- Download the flask framework : `pip install flask`\n",
    "- Ensure it is correctly installed : `flask --version`\n",
    "\n",
    "### Hello World\n",
    "\n",
    "To run a Flask webapp, we just need to create an instance of `Flask` and run it.  \n",
    "To add routes to the webapp, we use the `app.route()` decorator."
   ]
  },
  {
   "cell_type": "code",
   "execution_count": null,
   "metadata": {},
   "outputs": [],
   "source": [
    "from flask import Flask\n",
    "\n",
    "app = Flask(__name__)\n",
    "\n",
    "@app.route('/')\n",
    "def hello_handler():\n",
    "    return 'Hello world'\n",
    "\n",
    "if __name__ == '__main__':\n",
    "    app.run(debug=True)"
   ]
  },
  {
   "cell_type": "markdown",
   "metadata": {},
   "source": [
    "From a terminal, run it with `python app.py`, it should start the web server on port 5000 : http://127.0.0.1:5000/  \n",
    "The `debug` mode allows to reload automatically the web server on code change."
   ]
  },
  {
   "cell_type": "markdown",
   "metadata": {},
   "source": [
    "### Path parameters\n",
    "\n",
    "We can include som path parameters in the path of the decorator.  \n",
    "The parameters name and type must be specified.  \n",
    "The path parameters becomes available as function parameters in the handler function."
   ]
  },
  {
   "cell_type": "code",
   "execution_count": null,
   "metadata": {},
   "outputs": [],
   "source": [
    "@app.route('/users/<string:user_name>/posts/<int:post_id>')\n",
    "def post_handler(user_name, post_id):\n",
    "    return f'Fetching post ID {post_id} for user {user_name}'"
   ]
  },
  {
   "cell_type": "markdown",
   "metadata": {},
   "source": [
    "### Restrict methods\n",
    "\n",
    "We can restrict which HTTP methods are allowed for a given route.  \n",
    "This is used a lot to allow GET and POST requests on a same route (GET to list the resources and POST to create one from a form for example)."
   ]
  },
  {
   "cell_type": "code",
   "execution_count": null,
   "metadata": {},
   "outputs": [],
   "source": [
    "from flask import requests\n",
    "\n",
    "@app.route('/users', methods=['GET', 'POST'])\n",
    "def get_users():\n",
    "    return 'Getting users with method %s' % request.method"
   ]
  },
  {
   "cell_type": "markdown",
   "metadata": {},
   "source": [
    "The HTTP method of the request can be accessed via the `request` variable provided in the `flask` module.\n",
    "\n",
    "### Templates\n",
    "\n",
    "Instead of returning a string to the browser, Flask can use a template file with the `render_template` function.  \n",
    "Template files must be under a `templates` sub-folder (this name is mandatory)."
   ]
  },
  {
   "cell_type": "code",
   "execution_count": null,
   "metadata": {},
   "outputs": [],
   "source": [
    "@app.route('/home')\n",
    "def home_handler():\n",
    "    return render_template('home.html')"
   ]
  },
  {
   "cell_type": "markdown",
   "metadata": {},
   "source": [
    "The Flask templates use the Jinja web templating engine.  \n",
    "A template can inherit from another one, and contain some blocks that children templates can customize.  \n",
    "\n",
    "Some common Jinja tags are :\n",
    "- `{% block xxx %} ... {% endblock %}` to create a block that a child template can populate.\n",
    "- `{% for x in my_list xxx %} ... {% endfor %}` to loop on all items of a Python list given as parameter to the template.\n",
    "- `{% if condition %} ... {% else %} ... {% endif %}` to conditionally add some content in the template.\n",
    "\n",
    "\n",
    "For example a `base.html` template for HTML pages could be :"
   ]
  },
  {
   "cell_type": "code",
   "execution_count": null,
   "metadata": {},
   "outputs": [],
   "source": [
    "<!DOCTYPE HTML>\n",
    "<html>\n",
    "<head>\n",
    "    <meta charset=\"utf-8\" />\n",
    "    <title> {% block title %} {% endblock %} </title>\n",
    "</head>\n",
    "<body>\n",
    "    {% block body %} {% endblock %}\n",
    "</body>\n",
    "</html>"
   ]
  },
  {
   "cell_type": "markdown",
   "metadata": {},
   "source": [
    "And a child template could extend this base template and populate the `title` and `body` blocks :"
   ]
  },
  {
   "cell_type": "code",
   "execution_count": null,
   "metadata": {
    "collapsed": true
   },
   "outputs": [],
   "source": [
    "{% extends 'base.html' %}\n",
    "\n",
    "{% block title %}\n",
    "Home\n",
    "{% endblock %}\n",
    "\n",
    "{% block body %}\n",
    "<h1>Home page</h1>\n",
    "{% endblock %}"
   ]
  },
  {
   "cell_type": "markdown",
   "metadata": {},
   "source": [
    "Templates can receive parameters from the Python code.  \n",
    "We can send a list of dict, and then loop on this list in the template with the `{% for x in my_list %}` Jinja tag.  \n",
    "Some Python code can also be included in the template with the `{{ python code }}` notation.\n",
    "\n",
    "_Flask handler :_"
   ]
  },
  {
   "cell_type": "code",
   "execution_count": null,
   "metadata": {},
   "outputs": [],
   "source": [
    "@app.route('/friends')\n",
    "def friends_handler():\n",
    "    all_friends = [\n",
    "        {'name': 'Bruce', 'hobby': 'tennis'},\n",
    "        {'name': 'Peter', 'hobby': 'biology'},\n",
    "        {'name': 'Damian', 'hobby': 'kung-fu', 'age': 12},\n",
    "    ]\n",
    "    return render_template('friends.html', friends=all_friends)"
   ]
  },
  {
   "cell_type": "markdown",
   "metadata": {},
   "source": [
    "_friends.html template :_"
   ]
  },
  {
   "cell_type": "code",
   "execution_count": null,
   "metadata": {},
   "outputs": [],
   "source": [
    "{% block body %}\n",
    "<h2>Friends list :</h2>\n",
    "<ul>\n",
    "{% for friend in friends %}\n",
    "    <li> {{ friend.name }} \n",
    "        {% if friend.age %}({{friend.age}} years old) {% endif %}\n",
    "        who likes {{ friend.hobby }}\n",
    "    </li>\n",
    "{% endfor %}\n",
    "</ul>\n",
    "{% endblock %}"
   ]
  },
  {
   "cell_type": "markdown",
   "metadata": {},
   "source": [
    "### Static files\n",
    "\n",
    "Flask can serve static content, it needs to be added under a `static` sub-folder.  \n",
    "The `static` sub-folder can then have a deeper hierarchy (for example contain folders for css, javascript, image files...)\n",
    "\n",
    "Files under the `static` folder can be referenced from a template, for example :"
   ]
  },
  {
   "cell_type": "code",
   "execution_count": null,
   "metadata": {},
   "outputs": [],
   "source": [
    "<link rel=\"stylesheet\" href=\"static/css/app.css\" />"
   ]
  },
  {
   "cell_type": "markdown",
   "metadata": {},
   "source": [
    "The recommended way is to use the `url_for()` Flask method instead, that allows runtime parameters :"
   ]
  },
  {
   "cell_type": "code",
   "execution_count": null,
   "metadata": {},
   "outputs": [],
   "source": [
    "<link rel=\"stylesheet\" href=\"{{ url_for('static', filename='css/app.css') }}\" />"
   ]
  },
  {
   "cell_type": "markdown",
   "metadata": {},
   "source": [
    "### Database integration\n",
    "\n",
    "Flask offers a nice integration with database layers via the `flask_sqlalchemy` module.  \n",
    "SQLAlchemy lets us choose an SQL database technology (SQLite, mySQL, Postgres...), define the schema of our database and easily interact with the data using the _data mapper pattern_ (using classes as handlers to database tables).\n",
    "\n",
    "- Install with `pip install flask_sqlalchemy`\n",
    "- In the code set the `SQLALCHEMY_DATABASE_URI` variable to the path of the database and instanciate a `SQLAlchemy` database object"
   ]
  },
  {
   "cell_type": "code",
   "execution_count": null,
   "metadata": {},
   "outputs": [],
   "source": [
    "app.config['SQLALCHEMY_DATABASE_URI'] = 'sqlite:///posts.db'  # 3 slashes is for relative path\n",
    "db = SQLAlchemy(app)"
   ]
  },
  {
   "cell_type": "markdown",
   "metadata": {},
   "source": [
    "- Define tables as classes extending `db.Model`, with a Column field for each table column.  \n",
    "  We can define a foreign key in a child table, and the corresponding relationship in the parent table.  \n",
    "  For example :"
   ]
  },
  {
   "cell_type": "code",
   "execution_count": null,
   "metadata": {
    "collapsed": true
   },
   "outputs": [],
   "source": [
    "class BlogPost(db.Model):\n",
    "    # fields look like class variables but they are converted to instance variables by SQLAlchemy\n",
    "    id         = db.Column(db.Integer, primary_key=True)\n",
    "    title      = db.Column(db.String(100), nullable=False)\n",
    "    content    = db.Column(db.Text, nullable=False)\n",
    "    created_on = db.Column(db.DateTime, nullable=False, default=datetime.now)\n",
    "    \n",
    "    # Field defined as foreign key\n",
    "    user_id = db.Column(db.Integer, db.ForeignKey('user.id'), nullable=False)\n",
    "\n",
    "    def __repr__(self):\n",
    "        return f'BlogPost({self.id}, {self.title}, {self.content}, {self.user_id}, {self.created_on})'\n",
    "\n",
    "\n",
    "class User(db.Model):\n",
    "    id            = db.Column(db.Integer, primary_key=True)\n",
    "    username      = db.Column(db.String(20), unique=True, nullable=False)\n",
    "    email         = db.Column(db.String(100), unique=True, nullable=False)\n",
    "    image_file    = db.Column(db.String(20), nullable=False, default='default.jpg')\n",
    "    password_hash = db.Column(db.String(60), nullable=False)\n",
    "    \n",
    "    # 1-to-many relationship : define a relationship in the parent and a foreign key in the child\n",
    "    # calling user.posts will actually run a query to fetch the posts\n",
    "    # calling post.author will get the User object associated to the foreign key\n",
    "    # the 'lazy' will load the posts for a user only when requested\n",
    "    posts = db.relationship('Post', backref='author', lazy=True)\n",
    "\n",
    "    def __repr__(self):\n",
    "        return f'User({self.id}, {self.username}, {self.email}, {self.image_file})'"
   ]
  },
  {
   "cell_type": "markdown",
   "metadata": {},
   "source": [
    "- the database can be created once before we run the website with the `create_all()` method.  \n",
    "  It reads all model classes defined in the file and creates the corresponding tables.  \n",
    "  For SQLite, it creates a `posts.db` database file in the current folder."
   ]
  },
  {
   "cell_type": "code",
   "execution_count": null,
   "metadata": {},
   "outputs": [],
   "source": [
    "from app import db\n",
    "db.create_all()   # create all tables defined as classes in the app.py file"
   ]
  },
  {
   "cell_type": "markdown",
   "metadata": {},
   "source": [
    "- The database can then be accessed and populated by the web server URL handlers by using instances of the model classes.  \n",
    "  For example, basic CRUD operations can be performed with :"
   ]
  },
  {
   "cell_type": "code",
   "execution_count": null,
   "metadata": {},
   "outputs": [],
   "source": [
    "# read all blog posts in DB\n",
    "res = BlogPost.query.all()\n",
    "\n",
    "# filter the result\n",
    "res = BlogPost.query.filter_by(title='Blog post 1').all()\n",
    "\n",
    "# create a user in DB\n",
    "db.session.add(User(username='user1', email='user1@blog.com', password_hash='hash1'))\n",
    "db.session.commit()\n",
    "\n",
    "# create a blog post in DB\n",
    "db.session.add(BlogPost(title='Blog post 1', content='This is the content', user_id=1))\n",
    "db.session.commit()\n",
    "\n",
    "# get a blog post by ID\n",
    "res = BlogPost.query.get(1)\n",
    "\n",
    "# use pseudo-fields of the relationship just like normal fields\n",
    "res = User.query.get(1).posts        # actually perform a query to retrieve the posts\n",
    "res = BlogPost.query.get(1).author\n",
    "\n",
    "# update a blog post by ID\n",
    "post = BlogPost.query.get(1)\n",
    "post.title += '!!!'\n",
    "db.session.commit()\n",
    "\n",
    "# delete a blog post by ID\n",
    "db.session.delete(BlogPost.query.get(1))\n",
    "db.session.commit()"
   ]
  },
  {
   "cell_type": "markdown",
   "metadata": {},
   "source": [
    "### Bootstrap style\n",
    "\n",
    "A webapp served with Flask can, just like any other webapp, use Bootstrap styles to improve its UI.  \n",
    "As described on Bootstrap website https://getbootstrap.com, it only requires to add a `<link>` tag in the header and one or more `<script>` tag(s) at the bottom of the body to make all Bootstrap styles available to our web pages.\n",
    "\n",
    "In the _Examples_ tab, the Bootstrap website offers many ready-to-use code snippets to include nice looking components in our pages, such as :\n",
    "- Container block style with `class=\"container\"`\n",
    "- Button style with `class=\"btn btn-primary\"`\n",
    "- Navbar components with the `<nav>` tag\n",
    "- Form components (input, text area, dropdown...)\n",
    "\n",
    "\n",
    "### Forms with Flask\n",
    "\n",
    "\n",
    "#### Native HTML Forms\n",
    "\n",
    "It is possible to use forms only with standard HTML `input` fields and a `button` for submission :\n"
   ]
  },
  {
   "cell_type": "code",
   "execution_count": null,
   "metadata": {
    "collapsed": true
   },
   "outputs": [],
   "source": [
    "<form action=\"/posts/create\" method=\"POST\">\n",
    "    <label for=\"title\">Title</label>\n",
    "    <input class=\"form-control\" type=\"text\" placeholder=\"Enter title\" name=\"title\" id=\"title\">\n",
    "    <br />\n",
    "    <label for=\"content\">Content</label>\n",
    "    <textarea class=\"form-control\" placeholder=\"Enter your post content\" name=\"content\" id=\"content\"></textarea>\n",
    "    <br />\n",
    "    <input class=\"btn btn-primary\" type=\"submit\" value=\"Submit\" />\n",
    "</form>"
   ]
  },
  {
   "cell_type": "markdown",
   "metadata": {},
   "source": [
    "When clicking on the Submit button, a POST request is sent to the specified URL, and the user values can be accessed in the Python handler with :"
   ]
  },
  {
   "cell_type": "code",
   "execution_count": null,
   "metadata": {},
   "outputs": [],
   "source": [
    "post_title = request.form['title']\n",
    "post_content = request.form['content']"
   ]
  },
  {
   "cell_type": "markdown",
   "metadata": {},
   "source": [
    "#### Flask WT forms module\n",
    "\n",
    "Flask can help with the form's fields and validation using the WT forms module.  \n",
    "It can be installed with :"
   ]
  },
  {
   "cell_type": "code",
   "execution_count": null,
   "metadata": {},
   "outputs": [],
   "source": [
    "pip install flask-wtf \n",
    "pip install email_validator"
   ]
  },
  {
   "cell_type": "markdown",
   "metadata": {},
   "source": [
    "A Python class is created for each form with the fields and validators for each field.  \n",
    "The form object is then given to the HTML template to easily generate the HTML code and validate the input.\n",
    "\n",
    "Some custom validators can be added for a specific field `xxx` by simply adding a method called `validate_xxx` in the class."
   ]
  },
  {
   "cell_type": "code",
   "execution_count": null,
   "metadata": {},
   "outputs": [],
   "source": [
    "from flask_wtf import FlaskForm\n",
    "from wtforms import StringField, PasswordField, SubmitField, BooleanField\n",
    "from wtforms.validators import DataRequired, Length, Email, EqualTo\n",
    "\n",
    "\n",
    "# Form for the registration of a new user\n",
    "class SignupForm(FlaskForm):\n",
    "    username         = StringField('Username', validators=[DataRequired(), Length(min=5, max=20)])\n",
    "    email            = StringField('Email', validators=[DataRequired(), Email()])\n",
    "    password         = PasswordField('Password', validators=[DataRequired(), Length(min=6)])\n",
    "    confirm_password = PasswordField('Confirm Password', validators=[DataRequired(), EqualTo(\"password\")])\n",
    "    remember         = BooleanField('Remember me')\n",
    "    submit           = SubmitField('Sign up')\n",
    "\n",
    "    # custom validator for the username field\n",
    "    def validate_username(self, username):\n",
    "    user = User.query.filter_by(username=username.data).first()\n",
    "    if user:\n",
    "        raise ValidationError('This username is already used, please choose a different one.')"
   ]
  },
  {
   "cell_type": "markdown",
   "metadata": {},
   "source": [
    "The handler can then use this class to send to an HTML template :"
   ]
  },
  {
   "cell_type": "code",
   "execution_count": null,
   "metadata": {},
   "outputs": [],
   "source": [
    "@app.route('/signup', methods=['GET', 'POST'])\n",
    "def signup_handler():\n",
    "    form = SignupForm()\n",
    "    if form.validate_on_submit():\n",
    "        flash(f'Account created for {form.username.data}!', 'success')\n",
    "        return redirect(url_for('home_handler'))\n",
    "    return render_template('signup.html', form=form)"
   ]
  },
  {
   "cell_type": "markdown",
   "metadata": {},
   "source": [
    "This form can then be used by the template to generate the HTML tags and access the validation status.  \n",
    "For example, the below form creates a label and an input for the username field, and displays any potential error.  \n",
    "It uses some Bootstrap classes for the components style and the errors highlighting."
   ]
  },
  {
   "cell_type": "code",
   "execution_count": null,
   "metadata": {},
   "outputs": [],
   "source": [
    "<!-- empty action will post to the same route -->\n",
    "<form method=\"POST\" action=\"\">\n",
    "    <!-- required for security -->\n",
    "    {{ form.hidden_tag() }}\n",
    "    <fieldset class=\"form-group\">\n",
    "\n",
    "        <!-- Username field -->\n",
    "        <div class=\"form-group\">\n",
    "            {{ form.username.label(class=\"form-control-label\") }}\n",
    "            {% if form.username.errors %}\n",
    "                {{ form.username(class=\"form-control form-control-lg is-invalid\") }}\n",
    "                <div class=\"invalid-feedback\">\n",
    "                    {% for error in form.username.errors %}\n",
    "                        <span>{{ error }}</span>\n",
    "                    {% endfor %}\n",
    "                </div>\n",
    "            {% else %}\n",
    "                {{ form.username(class=\"form-control form-control-lg\") }}\n",
    "            {% endif %}\n",
    "        </div>\n",
    "\n",
    "        [ ... same for other fields ...]\n",
    "\n",
    "    </fieldset>\n",
    "    <div class=\"form-group mt-3\">\n",
    "        {{ form.submit(class=\"btn btn-outline-info\") }}\n",
    "    </div>\n",
    "</form>"
   ]
  },
  {
   "cell_type": "markdown",
   "metadata": {},
   "source": [
    "### Structure of a Flask project\n",
    "\n",
    "For a small project we can put all code in the same app.py file, but as the app grows we need to structure the code.  \n",
    "A good approach is to put all the code of the app in its own package containing :\n",
    "- a `__init__.py` file creating the `app` and the `db` variables and importing the routes\n",
    "- a `routes.py` module defining all the available routes (importing `app` and `db`)\n",
    "- a `models.py` module defining a class for each database table with SQLAlchemy\n",
    "- a `forms.py` module defining a class for each form in the webapp with WTForm\n",
    "- a `templates` folder containing all templates used by the routes\n",
    "- a `static` folder containing all static files to serve (CSS, JS, images, ...)\n",
    "\n",
    "Then the webapp can be started by a `run.py` containing only :"
   ]
  },
  {
   "cell_type": "code",
   "execution_count": null,
   "metadata": {},
   "outputs": [],
   "source": [
    "from myblog import app\n",
    "\n",
    "if __name__ == '__main__':\n",
    "    app.run(debug=True)"
   ]
  },
  {
   "cell_type": "markdown",
   "metadata": {},
   "source": [
    "If the app grows bigger, it can be good to create several sub-packages (split by logical domains of the app) within the webapp package.  \n",
    "For a blog, we can for instance have :\n",
    "- a `users` sub-package for routes and forms about user management (login/logout/password reset/account management...)\n",
    "- a `posts` sub-package for routes and forms about post management (creation/update/deletion/list...)\n",
    "\n",
    "Each sub-package is a folder under the main webapp package, containing :\n",
    "- its own `__init__.py` file\n",
    "- a `forms.py` file with forms for this module\n",
    "- a `routes.py` file with forms for this module\n",
    "\n",
    "The forms and routes files of each sub-package can import shared variables from the main module, like the `app` or the `db` instance.\n",
    "\n",
    "Instead of defining directly the routes from the `app` object, each sub-package will define its own `Blueprint` containing all its routes:"
   ]
  },
  {
   "cell_type": "code",
   "execution_count": null,
   "metadata": {
    "collapsed": true
   },
   "outputs": [],
   "source": [
    "posts_blueprint = Blueprint('posts', __name__)\n",
    "\n",
    "\n",
    "@posts_blueprint.route('/posts', methods=['GET'])\n",
    "def get_posts_handler():\n",
    "   ... logic to render the posts ..."
   ]
  },
  {
   "cell_type": "markdown",
   "metadata": {},
   "source": [
    "Each call to `url_for()` will now need to specify the blueprint and the handler.  \n",
    "For the above route, it is called with `url_for('posts.get_posts_handler')`.\n",
    "\n",
    "The main webapp package will then import all blueprints in its `__init__.py` :"
   ]
  },
  {
   "cell_type": "code",
   "execution_count": null,
   "metadata": {
    "collapsed": true
   },
   "outputs": [],
   "source": [
    "from myblog.users.routes import users_blueprint\n",
    "from myblog.posts.routes import posts_blueprint\n",
    "\n",
    "app.register_blueprint(users_blueprint)\n",
    "app.register_blueprint(posts_blueprint)"
   ]
  },
  {
   "cell_type": "markdown",
   "metadata": {},
   "source": [
    "It is also a good practice to expose a `create_app(config)` function instead of creating directly an `app` object in the webapp package.  \n",
    "That makes the app more testable and allows to instantiate it with different configs :\n",
    "- create a Config class containing all the config variables of the app (secret ones may be read from env variables)\n",
    "- create a `create_app(config)` function in the top-level `__init__.py` file\n",
    "- in this function, create the app object and initialize it with the config class\n",
    "- create the extensions outside of the `create_app` function (db, bcrypt, login_manager, mail...)\n",
    "- initialize the extensions with the app instance inside the function with `db.init_app(app)` for instance.\n",
    "- register all required blueprints for the app in the function"
   ]
  },
  {
   "cell_type": "code",
   "execution_count": null,
   "metadata": {},
   "outputs": [],
   "source": [
    "def create_app(config_class=Config):\n",
    "    # Create a Flask object representing our webapp\n",
    "    app = Flask(__name__)\n",
    "    app.config.from_object(config_class)\n",
    "\n",
    "    # Extensions are created outside of the create_app method and are app-independent\n",
    "    # Here we initialize them with our specific app object\n",
    "    db.init_app(app)\n",
    "    bcrypt.init_app(app)\n",
    "    login_manager.init_app(app)\n",
    "    mail.init_app(app)\n",
    "\n",
    "    # register all blueprints for this app\n",
    "    app.register_blueprint(users_blueprint)\n",
    "    app.register_blueprint(posts_blueprint)\n",
    "    app.register_blueprint(common_blueprint)\n",
    "\n",
    "    return app"
   ]
  },
  {
   "cell_type": "markdown",
   "metadata": {},
   "source": [
    "\n",
    "### User login\n",
    "\n",
    "Login/logout management is made easy with the `flask-login` extension :  `pip install flask-login`\n",
    "\n",
    "This extension allows to :\n",
    "- call the `login_user(user)` function to login a user (it uses the session)\n",
    "- call the `logout_user()` function to logout the current user\n",
    "- access the `current_user` DB model variable from the Python code or the HTML templates (None if not logged in)\n",
    "- restrict some routes to logged in users, and redirect to a different route if not logged in.  \n",
    "  It adds a `next` query parameter to the redirected route, that can be used after login to redirect to the target page.\n",
    "\n",
    "To get this extension to work, we need our User model class to extend the `UserMixin` class.  \n",
    "This will create the fields required by the flask-login plugin (is_active, is_authenticated...).  \n",
    "We also need to create a method to let the extension know how to create the user object from the user ID :"
   ]
  },
  {
   "cell_type": "code",
   "execution_count": null,
   "metadata": {},
   "outputs": [],
   "source": [
    "@login_manager.user_loader\n",
    "def load_user(user_id):\n",
    "    return User.query.get(int(user_id))"
   ]
  },
  {
   "cell_type": "markdown",
   "metadata": {},
   "source": [
    "### Image upload\n",
    "\n",
    "Flask supports image upload by adding a field of type `FileField` to a form.  \n",
    "This field can use the `FileAllowed()` validator to allow only some specific file extensions :"
   ]
  },
  {
   "cell_type": "code",
   "execution_count": null,
   "metadata": {},
   "outputs": [],
   "source": [
    "picture = FileField('Update profile picture', validators=[FileAllowed(['jpg', 'png'])])"
   ]
  },
  {
   "cell_type": "markdown",
   "metadata": {},
   "source": [
    "This field can then be used in the template receiving this form.  \n",
    "Note that the form must specify an encoding type of `multipart/form-data` for the upload to be possible :"
   ]
  },
  {
   "cell_type": "code",
   "execution_count": null,
   "metadata": {},
   "outputs": [],
   "source": [
    "<form method=\"POST\" action=\"\" enctype=\"multipart/form-data\">\n",
    "    <!-- required for security -->\n",
    "    {{ form.hidden_tag() }}\n",
    "    <fieldset class=\"form-group\">\n",
    "\n",
    "        [ ... other fields ... ]\n",
    "    \n",
    "        <!-- Profile picture field -->\n",
    "        <div class=\"mt-3 form-group\">\n",
    "            {{ form.picture.label(class=\"form-control-label\") }}\n",
    "            <br />\n",
    "            {{ form.picture(class=\"form-control-file\") }}\n",
    "            {% if form.picture.errors %}\n",
    "                <div>\n",
    "                    {% for error in form.picture.errors %}\n",
    "                        <span class=\"text-danger\">{{ error }}</span> <br />\n",
    "                    {% endfor %}\n",
    "                </div>\n",
    "            {% endif %}\n",
    "        </div>\n",
    "    </fieldset>\n",
    "</form>"
   ]
  },
  {
   "cell_type": "markdown",
   "metadata": {},
   "source": [
    "On POST, that file can be retrieved and save on the server.  \n",
    "For example, the below handler saves a new username, email and profile picture.  \n",
    "If a new picture is uploaded, it creates a thumbnail of the received image and saves it on the server.  \n",
    "It uses `Pillow` (Python Imaging Library) to resize the image :"
   ]
  },
  {
   "cell_type": "code",
   "execution_count": null,
   "metadata": {},
   "outputs": [],
   "source": [
    "from PIL import Image # part of Pillow (Python Imaging Library)\n",
    "\n",
    "def save_picture(picture):\n",
    "    # create a name for the picture file\n",
    "    hex = secrets.token_hex(8)\n",
    "    _, file_ext = os.path.splitext(picture.filename)\n",
    "    file_name = current_user.username + '_' + hex + file_ext\n",
    "    picture_path = os.path.join(app.root_path, 'static/images', file_name)\n",
    "    # Resize the image with Pillow\n",
    "    output_size = (125, 125)\n",
    "    i = Image.open(picture)\n",
    "    i.thumbnail(output_size)\n",
    "    # Save the file in the images folder\n",
    "    i.save(picture_path)\n",
    "    return file_name\n",
    "\n",
    "@app.route('/account', methods=['GET', 'POST'])\n",
    "def account_handler():\n",
    "    form = UpdateAccountForm()\n",
    "    if form.validate_on_submit():\n",
    "        if form.picture.data:\n",
    "            # save the file in the images folder\n",
    "            file_name = save_picture(form.picture.data)\n",
    "            # Update the DB with this file\n",
    "            current_user.image_file = file_name\n",
    "        current_user.username = form.username.data\n",
    "        current_user.email = form.email.data\n",
    "        db.session.commit()\n",
    "        flash('Your account has been updated', 'success')\n",
    "        return redirect(url_for('account_handler'))\n",
    "    elif request.method == 'GET':\n",
    "        # pre-populate the username and email\n",
    "        form.username.data = current_user.username\n",
    "        form.email.data = current_user.email\n",
    "\n",
    "    image_path = url_for('static', filename='images/' + current_user.image_file)\n",
    "    return render_template('account.html', title='Account', image_path = image_path, form=form)\n"
   ]
  },
  {
   "cell_type": "markdown",
   "metadata": {},
   "source": [
    "### Sending emails\n",
    "\n",
    "We may need to send email to our users from the Flask webapp (for example for password reset).  \n",
    "This can be done with the `flask-mail` extension : `pip install flask-mail`\n",
    "\n",
    "It requires to setup the mail server.  \n",
    "The username and password should be passed via environment variables to remain secret."
   ]
  },
  {
   "cell_type": "code",
   "execution_count": null,
   "metadata": {},
   "outputs": [],
   "source": [
    "from flask_mail import Mail\n",
    "\n",
    "app.config['MAIL_SERVER'] = 'smtp.googlemail.com'\n",
    "app.config['MAIL_PORT'] = 587\n",
    "app.config['MAIL_USE_TLS'] = True\n",
    "app.config['MAIL_USERNAME'] = os.environ.get('EMAIL_USER')  \n",
    "app.config['MAIL_PASSWORD'] = os.environ.get('EMAIL_PWD')\n",
    "mail = Mail(app)"
   ]
  },
  {
   "cell_type": "markdown",
   "metadata": {},
   "source": [
    "Then this mail server can be used to send emails from any route :"
   ]
  },
  {
   "cell_type": "code",
   "execution_count": null,
   "metadata": {},
   "outputs": [],
   "source": [
    "def send_reset_email(user):\n",
    "    msg = Message(subject='Password reset request',\n",
    "                  recipients=[user.email],\n",
    "                  body='This is a mail sent from Flask.',\n",
    "                  sender='noreply@demo.com')\n",
    "    mail.send(msg)"
   ]
  },
  {
   "cell_type": "markdown",
   "metadata": {},
   "source": [
    "### HTTP errors handling\n",
    "\n",
    "If an undefined route is queried, Flask will throw a 404 error.  \n",
    "We can also throw a specific HTTP error from a route handler with `abort(error_code)`, for example a 403 if a user tries to update another user's resource.\n",
    "\n",
    "By default, these errors will result in a simple HTML page with a black message on a white page.  \n",
    "We can customize the error page to display a specific template, and include our webapp header/menu if needed.  \n",
    "\n",
    "We can create a blueprint for the errors handling, and use the `@blueprint.app_errorhandler(error_code)` decorator for the handlers.  \n",
    "The handler is similar to a normal route handler, it can render a template in the same way, but the return should include a second parameter for the error code."
   ]
  },
  {
   "cell_type": "code",
   "execution_count": null,
   "metadata": {},
   "outputs": [],
   "source": [
    "errors_blueprint = Blueprint('errors', __name__)\n",
    "\n",
    "@errors_blueprint.app_errorhandler(404)\n",
    "def error_404(error):\n",
    "    return render_template('errors/404.html'), 404\n"
   ]
  },
  {
   "cell_type": "markdown",
   "metadata": {},
   "source": [
    "### Deployment on AWS\n",
    "\n",
    "Once the webapp behaves as expected in our local dev environment, we can deploy it to an actual production server.  \n",
    "It could be running on an on-premise server, or on a cloud provider (AWS, GCP, Linode...).  \n",
    "Below are the steps to deploy it on an AWS EC2 instance.\n",
    "\n",
    "#### 1st step : Get the dev Flask webapp running on port 5000\n",
    "\n",
    "- From an AWS console :\n",
    "    - Launch a new EC2 instance with an SSH key pair\n",
    "    - Update its security group to allow inbound traffic on ports 22 (SSH), 80 (HTTP) and 5000 (used by Flask for dev)\n",
    "    - Note the public IP for this EC2 instance\n",
    "\n",
    "\n",
    "- From our local webapp project folder :\n",
    "    - Create a _requirements.txt_ file listing the project dependencies :  \n",
    "      `pip3 freeze > requirements.txt`\n",
    "    - Copy the entire project folder over to the home folder of the EC2 instance :  \n",
    "      `scp -r -i private_ssh_key.pem <proj_folder> ec2-user@<EC2_IP>:~/`\n",
    "    - SSH to the EC2 instance :  \n",
    "      `ssh -i private_ssh_key.pem ec2-user@<EC2_IP>`  \n",
    "      \n",
    "      \n",
    "- From the SSH session on the EC2 instance :\n",
    "    - Update the packages and install python and pip :  \n",
    "      `sudo yum update`  \n",
    "      `sudo yum install python3 python3-pip`  \n",
    "    - Create a Python virtual env, activate it and install all dependencies of the webapp in it :  \n",
    "      `python3 -m venv <proj_folder>/venv`  \n",
    "      `cd <proj_folder>`  \n",
    "      `source venv/bin/activate`  \n",
    "      `pip install -r requirements.txt`  \n",
    "    - Start the webapp in dev mode :  \n",
    "      `export FLASK_APP=run.py`  \n",
    "      `flask run --host=0.0.0.0` &nbsp;&nbsp;&nbsp;&nbsp;&nbsp; (host `0.0.0.0` to not limit to localhost but listen to all public IPs)\n",
    "\n",
    "\n",
    "- From any browser, ensure that the webapp is reachable at URL _http://\\<EC2_IP\\>:5000_"
   ]
  },
  {
   "cell_type": "markdown",
   "metadata": {},
   "source": [
    "#### Step 2 : Get the app running with NGINX and Gunicorn\n",
    "\n",
    "For a production environment, we want to support a high load of traffic.  \n",
    "Running the app directly on the server does not allow that, we need to use a real web server like NGINX.  \n",
    "NGINX will handle the traffic, deliver directly static files, and delegate the routes of the webapp to Gunicorn web server.  \n",
    "Gunicorn will execute the Python code for the routes using several workers.\n",
    "\n",
    "- Install NGINX and Gunicorn :  \n",
    "  `sudo amazon-linux-extras install nginx1`  \n",
    "  `pip install gunicorn` &nbsp;&nbsp;&nbsp;&nbsp;&nbsp; (run from within the Python virtual env)\n",
    "  \n",
    "  \n",
    "- Create a _/etc/nginx/conf.d/flask_app.conf_ NGINX config file for the webapp.  \n",
    "  All .conf files in this folder are imported in _nginx.conf_. &nbsp;  \n",
    "  This config file tells NGINX to serve static files directly, and to delegate other requests to Gunicorn web server running on localhost.\n",
    "\n",
    "\n"
   ]
  },
  {
   "cell_type": "code",
   "execution_count": null,
   "metadata": {},
   "outputs": [],
   "source": [
    "server {\n",
    "        listen 80;\n",
    "        server_name <EC2_IP>;\n",
    "\n",
    "        location /static {\n",
    "                alias /home/ec2-user/flask_app/myblog/static;\n",
    "        }\n",
    "\n",
    "        location / {\n",
    "                proxy_pass http://localhost:8000;\n",
    "\n",
    "                proxy_set_header Host $http_host;\n",
    "                proxy_set_header X-Real-IP $remote_addr;\n",
    "                proxy_set_header X-Forwarded-For $proxy_add_x_forwarded_for;\n",
    "                proxy_set_header X-Forwarded-Proto $scheme;\n",
    "\n",
    "                proxy_redirect off;\n",
    "        }\n",
    "}"
   ]
  },
  {
   "cell_type": "markdown",
   "metadata": {},
   "source": [
    "- Restart NGINX web server :  \n",
    "  `sudo systemctl restart nginx`\n",
    "  \n",
    "  \n",
    "- Ensure you can access a static file from NGINX with URL : _http://\\<EC2_IP\\>/static/css/app.css_  \n",
    "  **Note :** If you get a 403 error code (Forbidden), ensure the `nginx` user used by NGINX (as specified in _nginx.conf_) has read access to the static files and execute access to all its parent directories.\n",
    "  \n",
    "Now NGINX can serve static files, but we get a 502 error code (Bad Gateway) if we try to access the URL : _http://\\<EC2_IP\\>/home_ &nbsp;  \n",
    "The Python routes are delegated by NGINX to the web server running on localhost, but we do not have one yet.  \n",
    "We need to start Gunicorn web server on localhost to handle the Python routes.\n",
    "\n",
    "To start Gunicorn with 3 parallel workers running our `app` flask instance from _run.py_ file, run :  \n",
    "`cd <proj_folder>`  \n",
    "`gunicorn -w 3 run:app`\n",
    "\n",
    "Now we can access the URL : _http://\\<EC2_IP\\>/home_\n"
   ]
  },
  {
   "cell_type": "markdown",
   "metadata": {},
   "source": [
    "#### Step 3 : Get the web server to run in the background with supervisor\n",
    "\n",
    "The webapp is now functional, but Gunicorn is running in the foreground.  \n",
    "If we press Ctrl-C or close our SSH terminal, Gunicorn stops and the webapp is no longer served.  \n",
    "We can use `supervisor` to make it run in the background without the need for an open terminal.  \n",
    "\n",
    "- Install supervisor :  \n",
    "  `sudo amazon-linux-extras install epel` &nbsp;&nbsp;&nbsp;&nbsp; (add a new repository available that contains supervisor)  \n",
    "  `sudo yum install supervisor`\n",
    "\n",
    "\n",
    "- Create a supervisor config file called _/etc/supervisord.d/flask_app.ini_ for our webapp.  \n",
    "  It is automatically included in _/etc/supervisord.conf_ supervisor main config file.  \n",
    "  The webapp config file specifies how to start the Gunicorn webserver, where to save the logs and if it needs autostart."
   ]
  },
  {
   "cell_type": "code",
   "execution_count": null,
   "metadata": {},
   "outputs": [],
   "source": [
    "[program:flask_app]\n",
    "directory=/home/ec2-user/flask_app\n",
    "command=/home/ec2-user/flask_app/venv/bin/gunicorn -w 3 run:app\n",
    "user=ec2-user\n",
    "autostart=true\n",
    "autorestart=true\n",
    "stopasgroup=true\n",
    "killasgroup=true\n",
    "stderr_logfile=/var/log/flask_app/flask_app.err.log\n",
    "stdout_logfile=/var/log/flask_app/flask_app.out.log"
   ]
  },
  {
   "cell_type": "markdown",
   "metadata": {},
   "source": [
    "- Create the log folder and files specified in the above supervisor config file :  \n",
    "  `sudo mkdir /var/log/flask_app`  \n",
    "  `sudo touch /var/log/flask_app/flask_app.err.log`  \n",
    "  `sudo touch /var/log/flask_app/flask_app.out.log`  \n",
    "\n",
    "\n",
    "- Start supervisor and ensure the workers for our Flask app are running :  \n",
    "  `sudo systemctl start supervisord`  \n",
    "  `sudo systemctl enable supervisord`  \n",
    "  `sudo systemctl status supervisord` &nbsp;&nbsp;&nbsp;&nbsp; (should show our workers)\n",
    "\n",
    "\n",
    "- Close the SSH terminal and ensure the webapp is still available from a browser."
   ]
  },
  {
   "cell_type": "markdown",
   "metadata": {},
   "source": [
    "#### Step 4 : Additional deployment steps\n",
    "\n",
    "For a real production server, other steps would be required, but are not Flask-specific :\n",
    "\n",
    "**Domain Name :** Buy a domain name with a domain provider (AWS Route53, GoDaddy, NameCheap...), add the domain in Route53 and create a DNS A record routing to our EC2 instance\n",
    "\n",
    "**TLS/SSL encryption :** Setup HTTPS\n",
    "- In AWS the best option is to use an Elastic Load Balancer and configure it to use an SSL Certificate from AWS Certificate Manager.\n",
    "- If not using an ELB, we can use a 3rd party certificate, for instance the `Let's encrypt` solution by installing an agent on our EC2 that will update our NGINX config\n",
    "\n",
    "**Secrets Management :** Instead of hardcoding user/passwords or adding them in env variables, we could use AWS Secrets Manager and assign a role to the EC2 instance to access these secrets."
   ]
  }
 ],
 "metadata": {
  "kernelspec": {
   "display_name": "Python 3 (ipykernel)",
   "language": "python",
   "name": "python3"
  },
  "language_info": {
   "codemirror_mode": {
    "name": "ipython",
    "version": 3
   },
   "file_extension": ".py",
   "mimetype": "text/x-python",
   "name": "python",
   "nbconvert_exporter": "python",
   "pygments_lexer": "ipython3",
   "version": "3.9.6"
  }
 },
 "nbformat": 4,
 "nbformat_minor": 4
}
