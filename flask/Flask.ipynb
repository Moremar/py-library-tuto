{
 "cells": [
  {
   "cell_type": "markdown",
   "metadata": {},
   "source": [
    "# Flask web framework\n",
    "\n",
    "Flask is a Python micro web framework created in 2010 (used by Pinterest and LinkedIn).  \n",
    "The main difference with bigger web frameworks like Django is that its core is very minimalist : it does not come pre-packaged with a lot of functionalities, it does not require any other library, and allows granularity by importing only extensions for the features we need.\n",
    "\n",
    "Flask has a lot of extensions offering various features such as validation, upload handling, authentication, database support...\n",
    "\n",
    "### Installation\n",
    "\n",
    "- Download the flask framework : `pip install flask`\n",
    "- Ensure it is correctly installed : `flask --version`\n",
    "\n",
    "### Hello World\n",
    "\n",
    "To run a Flask webapp, we just need to create an instance of `Flask` and run it.  \n",
    "To add routes to the webapp, we use the `app.route()` decorator."
   ]
  },
  {
   "cell_type": "code",
   "execution_count": null,
   "metadata": {},
   "outputs": [],
   "source": [
    "from flask import Flask\n",
    "\n",
    "app = Flask(__name__)\n",
    "\n",
    "@app.route('/')\n",
    "def hello_handler():\n",
    "    return 'Hello world'\n",
    "\n",
    "if __name__ == '__main__':\n",
    "    app.run(debug=True)"
   ]
  },
  {
   "cell_type": "markdown",
   "metadata": {},
   "source": [
    "From a terminal, run it with `python app.py`, it should start the web server on port 5000 : http://127.0.0.1:5000/  \n",
    "The `debug` mode allows to reload automatically the web server on code change."
   ]
  },
  {
   "cell_type": "markdown",
   "metadata": {},
   "source": [
    "### Path parameters\n",
    "\n",
    "We can include som path parameters in the path of the decorator.  \n",
    "The parameters name and type must be specified.  \n",
    "The path parameters becomes available as function parameters in the handler function."
   ]
  },
  {
   "cell_type": "code",
   "execution_count": null,
   "metadata": {},
   "outputs": [],
   "source": [
    "@app.route('/users/<string:user_name>/posts/<int:post_id>')\n",
    "def post_handler(user_name, post_id):\n",
    "    return f'Fetching post ID {post_id} for user {user_name}'"
   ]
  },
  {
   "cell_type": "markdown",
   "metadata": {},
   "source": [
    "### Restrict methods\n",
    "\n",
    "We can restrict which HTTP methods are allowed for a given route.  \n",
    "This is used a lot to allow GET and POST requests on a same route (GET to list the resources and POST to create one from a form for example)."
   ]
  },
  {
   "cell_type": "code",
   "execution_count": null,
   "metadata": {},
   "outputs": [],
   "source": [
    "from flask import requests\n",
    "\n",
    "@app.route('/users', methods=['GET', 'POST'])\n",
    "def get_users():\n",
    "    return 'Getting users with method %s' % request.method"
   ]
  },
  {
   "cell_type": "markdown",
   "metadata": {},
   "source": [
    "The HTTP method of the request can be accessed via the `request` variable provided in the `flask` module.\n",
    "\n",
    "### Templates\n",
    "\n",
    "Instead of returning a string to the browser, Flask can use a template file with the `render_template` function.  \n",
    "Template files must be under a `templates` sub-folder (this name is mandatory)."
   ]
  },
  {
   "cell_type": "code",
   "execution_count": null,
   "metadata": {},
   "outputs": [],
   "source": [
    "@app.route('/home')\n",
    "def home_handler():\n",
    "    return render_template('home.html')"
   ]
  },
  {
   "cell_type": "markdown",
   "metadata": {},
   "source": [
    "The Flask templates use the Jinja web templating engine.  \n",
    "A template can inherit from another one, and contain some blocks that children templates can customize.  \n",
    "\n",
    "Some common Jinja tags are :\n",
    "- `{% block xxx %} ... {% endblock %}` to create a block that a child template can populate.\n",
    "- `{% for x in my_list xxx %} ... {% endfor %}` to loop on all items of a Python list given as parameter to the template.\n",
    "- `{% if condition %} ... {% else %} ... {% endif %}` to conditionally add some content in the template.\n",
    "\n",
    "\n",
    "For example a `base.html` template for HTML pages could be :"
   ]
  },
  {
   "cell_type": "code",
   "execution_count": null,
   "metadata": {},
   "outputs": [],
   "source": [
    "<!DOCTYPE HTML>\n",
    "<html>\n",
    "<head>\n",
    "    <meta charset=\"utf-8\" />\n",
    "    <title> {% block title %} {% endblock %} </title>\n",
    "</head>\n",
    "<body>\n",
    "    {% block body %} {% endblock %}\n",
    "</body>\n",
    "</html>"
   ]
  },
  {
   "cell_type": "markdown",
   "metadata": {},
   "source": [
    "And a child template could extend this base template and populate the `title` and `body` blocks :"
   ]
  },
  {
   "cell_type": "code",
   "execution_count": null,
   "metadata": {
    "collapsed": true
   },
   "outputs": [],
   "source": [
    "{% extends 'base.html' %}\n",
    "\n",
    "{% block title %}\n",
    "Home\n",
    "{% endblock %}\n",
    "\n",
    "{% block body %}\n",
    "<h1>Home page</h1>\n",
    "{% endblock %}"
   ]
  },
  {
   "cell_type": "markdown",
   "metadata": {},
   "source": [
    "Templates can receive parameters from the Python code.  \n",
    "We can send a list of dict, and then loop on this list in the template with the `{% for x in my_list %}` Jinja tag.  \n",
    "Some Python code can also be included in the template with the `{{ python code }}` notation.\n",
    "\n",
    "_Flask handler :_"
   ]
  },
  {
   "cell_type": "code",
   "execution_count": null,
   "metadata": {},
   "outputs": [],
   "source": [
    "@app.route('/friends')\n",
    "def friends_handler():\n",
    "    all_friends = [\n",
    "        {'name': 'Bruce', 'hobby': 'tennis'},\n",
    "        {'name': 'Peter', 'hobby': 'biology'},\n",
    "        {'name': 'Damian', 'hobby': 'kung-fu', 'age': 12},\n",
    "    ]\n",
    "    return render_template('friends.html', friends=all_friends)"
   ]
  },
  {
   "cell_type": "markdown",
   "metadata": {},
   "source": [
    "_friends.html template :_"
   ]
  },
  {
   "cell_type": "code",
   "execution_count": null,
   "metadata": {},
   "outputs": [],
   "source": [
    "{% block body %}\n",
    "<h2>Friends list :</h2>\n",
    "<ul>\n",
    "{% for friend in friends %}\n",
    "    <li> {{ friend.name }} \n",
    "        {% if friend.age %}({{friend.age}} years old) {% endif %}\n",
    "        who likes {{ friend.hobby }}\n",
    "    </li>\n",
    "{% endfor %}\n",
    "</ul>\n",
    "{% endblock %}"
   ]
  },
  {
   "cell_type": "markdown",
   "metadata": {},
   "source": [
    "### Static files\n",
    "\n",
    "Flask can serve static content, it needs to be added under a `static` sub-folder.  \n",
    "The `static` sub-folder can then have a deeper hierarchy (for example contain folders for css, javascript, image files...)\n",
    "\n",
    "Files under the `static` folder can be referenced from a template, for example :"
   ]
  },
  {
   "cell_type": "code",
   "execution_count": null,
   "metadata": {},
   "outputs": [],
   "source": [
    "<link rel=\"stylesheet\" href=\"static/css/app.css\" />"
   ]
  },
  {
   "cell_type": "markdown",
   "metadata": {},
   "source": [
    "The recommended way is to use the `url_for()` Flask method instead, that allows runtime parameters :"
   ]
  },
  {
   "cell_type": "code",
   "execution_count": null,
   "metadata": {},
   "outputs": [],
   "source": [
    "<link rel=\"stylesheet\" href=\"{{ url_for('static', filename='css/app.css') }}\" />"
   ]
  },
  {
   "cell_type": "markdown",
   "metadata": {},
   "source": [
    "### Database integration\n",
    "\n",
    "Flask offers a nice integration with database layers via the `flask_sqlalchemy` module.  \n",
    "SQLAlchemy lets us choose an SQL database technology (SQLite, mySQL, Postgres...), define the schema of our database and easily interact with the data using the _data mapper pattern_ (using classes as handlers to database tables).\n",
    "\n",
    "- Install with `pip install flask_sqlalchemy`\n",
    "- In the code set the `SQLALCHEMY_DATABASE_URI` variable to the path of the database and instanciate a `SQLAlchemy` database object"
   ]
  },
  {
   "cell_type": "code",
   "execution_count": null,
   "metadata": {},
   "outputs": [],
   "source": [
    "app.config['SQLALCHEMY_DATABASE_URI'] = 'sqlite:///posts.db'  # 3 slashes is for relative path\n",
    "db = SQLAlchemy(app)"
   ]
  },
  {
   "cell_type": "markdown",
   "metadata": {},
   "source": [
    "- Define tables as classes extending `db.Model`, with a Column field for each table column.  \n",
    "  We can define a foreign key in a child table, and the corresponding relationship in the parent table.  \n",
    "  For example :"
   ]
  },
  {
   "cell_type": "code",
   "execution_count": null,
   "metadata": {
    "collapsed": true
   },
   "outputs": [],
   "source": [
    "class BlogPost(db.Model):\n",
    "    # fields look like class variables but they are converted to instance variables by SQLAlchemy\n",
    "    id         = db.Column(db.Integer, primary_key=True)\n",
    "    title      = db.Column(db.String(100), nullable=False)\n",
    "    content    = db.Column(db.Text, nullable=False)\n",
    "    created_on = db.Column(db.DateTime, nullable=False, default=datetime.now)\n",
    "    \n",
    "    # Field defined as foreign key\n",
    "    user_id = db.Column(db.Integer, db.ForeignKey('user.id'), nullable=False)\n",
    "\n",
    "    def __repr__(self):\n",
    "        return f'BlogPost({self.id}, {self.title}, {self.content}, {self.user_id}, {self.created_on})'\n",
    "\n",
    "\n",
    "class User(db.Model):\n",
    "    id            = db.Column(db.Integer, primary_key=True)\n",
    "    username      = db.Column(db.String(20), unique=True, nullable=False)\n",
    "    email         = db.Column(db.String(100), unique=True, nullable=False)\n",
    "    image_file    = db.Column(db.String(20), nullable=False, default='default.jpg')\n",
    "    password_hash = db.Column(db.String(60), nullable=False)\n",
    "    \n",
    "    # 1-to-many relationship : define a relationship in the parent and a foreign key in the child\n",
    "    # calling user.posts will actually run a query to fetch the posts\n",
    "    # calling post.author will get the User object associated to the foreign key\n",
    "    # the 'lazy' will load the posts for a user only when requested\n",
    "    posts = db.relationship('Post', backref='author', lazy=True)\n",
    "\n",
    "    def __repr__(self):\n",
    "        return f'User({self.id}, {self.username}, {self.email}, {self.image_file})'"
   ]
  },
  {
   "cell_type": "markdown",
   "metadata": {},
   "source": [
    "- the database can be created once before we run the website with the `create_all()` method.  \n",
    "  It reads all model classes defined in the file and creates the corresponding tables.  \n",
    "  For SQLite, it creates a `posts.db` database file in the current folder."
   ]
  },
  {
   "cell_type": "code",
   "execution_count": null,
   "metadata": {},
   "outputs": [],
   "source": [
    "from app import db\n",
    "db.create_all()   # create all tables defined as classes in the app.py file"
   ]
  },
  {
   "cell_type": "markdown",
   "metadata": {},
   "source": [
    "- The database can then be accessed and populated by the web server URL handlers by using instances of the model classes.  \n",
    "  For example, basic CRUD operations can be performed with :"
   ]
  },
  {
   "cell_type": "code",
   "execution_count": null,
   "metadata": {},
   "outputs": [],
   "source": [
    "# read all blog posts in DB\n",
    "res = BlogPost.query.all()\n",
    "\n",
    "# filter the result\n",
    "res = BlogPost.query.filter_by(title='Blog post 1').all()\n",
    "\n",
    "# create a user in DB\n",
    "db.session.add(User(username='user1', email='user1@blog.com', password_hash='hash1'))\n",
    "db.session.commit()\n",
    "\n",
    "# create a blog post in DB\n",
    "db.session.add(BlogPost(title='Blog post 1', content='This is the content', user_id=1))\n",
    "db.session.commit()\n",
    "\n",
    "# get a blog post by ID\n",
    "res = BlogPost.query.get(1)\n",
    "\n",
    "# use pseudo-fields of the relationship just like normal fields\n",
    "res = User.query.get(1).posts        # actually perform a query to retrieve the posts\n",
    "res = BlogPost.query.get(1).author\n",
    "\n",
    "# update a blog post by ID\n",
    "post = BlogPost.query.get(1)\n",
    "post.title += '!!!'\n",
    "db.session.commit()\n",
    "\n",
    "# delete a blog post by ID\n",
    "db.session.delete(BlogPost.query.get(1))\n",
    "db.session.commit()"
   ]
  },
  {
   "cell_type": "markdown",
   "metadata": {},
   "source": [
    "### Bootstrap style\n",
    "\n",
    "A webapp served with Flask can, just like any other webapp, use Bootstrap styles to improve its UI.  \n",
    "As described on Bootstrap website https://getbootstrap.com, it only requires to add a `<link>` tag in the header and one or more `<script>` tag(s) at the bottom of the body to make all Bootstrap styles available to our web pages.\n",
    "\n",
    "In the _Examples_ tab, the Bootstrap website offers many ready-to-use code snippets to include nice looking components in our pages, such as :\n",
    "- Container block style with `class=\"container\"`\n",
    "- Button style with `class=\"btn btn-primary\"`\n",
    "- Navbar components with the `<nav>` tag\n",
    "- Form components (input, text area, dropdown...)\n",
    "\n",
    "\n",
    "### Forms with Flask\n",
    "\n",
    "\n",
    "#### Native HTML Forms\n",
    "\n",
    "It is possible to use forms only with standard HTML `input` fields and a `button` for submission :\n"
   ]
  },
  {
   "cell_type": "code",
   "execution_count": null,
   "metadata": {
    "collapsed": true
   },
   "outputs": [],
   "source": [
    "<form action=\"/posts/create\" method=\"POST\">\n",
    "    <label for=\"title\">Title</label>\n",
    "    <input class=\"form-control\" type=\"text\" placeholder=\"Enter title\" name=\"title\" id=\"title\">\n",
    "    <br />\n",
    "    <label for=\"content\">Content</label>\n",
    "    <textarea class=\"form-control\" placeholder=\"Enter your post content\" name=\"content\" id=\"content\"></textarea>\n",
    "    <br />\n",
    "    <input class=\"btn btn-primary\" type=\"submit\" value=\"Submit\" />\n",
    "</form>"
   ]
  },
  {
   "cell_type": "markdown",
   "metadata": {},
   "source": [
    "When clicking on the Submit button, a POST request is sent to the specified URL, and the user values can be accessed in the Python handler with :"
   ]
  },
  {
   "cell_type": "code",
   "execution_count": null,
   "metadata": {},
   "outputs": [],
   "source": [
    "post_title = request.form['title']\n",
    "post_content = request.form['content']"
   ]
  },
  {
   "cell_type": "markdown",
   "metadata": {},
   "source": [
    "#### Flask WT forms module\n",
    "\n",
    "Flask can help with the form's fields and validation using the WT forms module.  \n",
    "It can be installed with :"
   ]
  },
  {
   "cell_type": "code",
   "execution_count": null,
   "metadata": {},
   "outputs": [],
   "source": [
    "pip install flask-wtf \n",
    "pip install email_validator"
   ]
  },
  {
   "cell_type": "markdown",
   "metadata": {},
   "source": [
    "A Python class is created for each form with the fields and validators for each field.  \n",
    "The form object is then given to the HTML template to easily generate the HTML code and validate the input :"
   ]
  },
  {
   "cell_type": "code",
   "execution_count": null,
   "metadata": {},
   "outputs": [],
   "source": [
    "from flask_wtf import FlaskForm\n",
    "from wtforms import StringField, PasswordField, SubmitField, BooleanField\n",
    "from wtforms.validators import DataRequired, Length, Email, EqualTo\n",
    "\n",
    "\n",
    "# Form for the registration of a new user\n",
    "class SignupForm(FlaskForm):\n",
    "    username         = StringField('Username', validators=[DataRequired(), Length(min=5, max=20)])\n",
    "    email            = StringField('Email', validators=[DataRequired(), Email()])\n",
    "    password         = PasswordField('Password', validators=[DataRequired(), Length(min=6)])\n",
    "    confirm_password = PasswordField('Confirm Password', validators=[DataRequired(), EqualTo(\"password\")])\n",
    "    remember         = BooleanField('Remember me')\n",
    "    submit           = SubmitField('Sign up')"
   ]
  },
  {
   "cell_type": "markdown",
   "metadata": {},
   "source": [
    "The handler can then use this class to send to an HTML template :"
   ]
  },
  {
   "cell_type": "code",
   "execution_count": null,
   "metadata": {},
   "outputs": [],
   "source": [
    "@app.route('/signup', methods=['GET', 'POST'])\n",
    "def signup_handler():\n",
    "    form = SignupForm()\n",
    "    if form.validate_on_submit():\n",
    "        flash(f'Account created for {form.username.data}!', 'success')\n",
    "        return redirect(url_for('home_handler'))\n",
    "    return render_template('signup.html', form=form)"
   ]
  },
  {
   "cell_type": "markdown",
   "metadata": {},
   "source": [
    "This form can then be used by the template to generate the HTML tags and access the validation status.  \n",
    "For example, the below form creates a label and an input for the username field, and displays any potential error.  \n",
    "It uses some Bootstrap classes for the components style and the errors highlighting."
   ]
  },
  {
   "cell_type": "code",
   "execution_count": null,
   "metadata": {},
   "outputs": [],
   "source": [
    "<!-- empty action will post to the same route -->\n",
    "<form method=\"POST\" action=\"\">\n",
    "    <!-- required for security -->\n",
    "    {{ form.hidden_tag() }}\n",
    "    <fieldset class=\"form-group\">\n",
    "\n",
    "        <!-- Username field -->\n",
    "        <div class=\"form-group\">\n",
    "            {{ form.username.label(class=\"form-control-label\") }}\n",
    "            {% if form.username.errors %}\n",
    "                {{ form.username(class=\"form-control form-control-lg is-invalid\") }}\n",
    "                <div class=\"invalid-feedback\">\n",
    "                    {% for error in form.username.errors %}\n",
    "                        <span>{{ error }}</span>\n",
    "                    {% endfor %}\n",
    "                </div>\n",
    "            {% else %}\n",
    "                {{ form.username(class=\"form-control form-control-lg\") }}\n",
    "            {% endif %}\n",
    "        </div>\n",
    "\n",
    "        [ ... same for other fields ...]\n",
    "\n",
    "    </fieldset>\n",
    "    <div class=\"form-group mt-3\">\n",
    "        {{ form.submit(class=\"btn btn-outline-info\") }}\n",
    "    </div>\n",
    "</form>"
   ]
  }
 ],
 "metadata": {
  "kernelspec": {
   "display_name": "Python 3",
   "language": "python",
   "name": "python3"
  },
  "language_info": {
   "codemirror_mode": {
    "name": "ipython",
    "version": 3
   },
   "file_extension": ".py",
   "mimetype": "text/x-python",
   "name": "python",
   "nbconvert_exporter": "python",
   "pygments_lexer": "ipython3",
   "version": "3.8.6"
  }
 },
 "nbformat": 4,
 "nbformat_minor": 4
}
