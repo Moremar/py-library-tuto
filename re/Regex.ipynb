{
 "cells": [
  {
   "cell_type": "markdown",
   "metadata": {},
   "source": [
    "# Regex builtin module\n",
    "\n",
    "Python offers some regular expressions operations via the `re` module.\n",
    "\n",
    "### Find if a string matches a regex\n",
    "\n",
    "`re.match(pattern, str)` tries to match a pattern from the beginning of the provided string.  \n",
    "`re.search(pattern, str)` is very similar but searches a match anywhere in the string (not only at the beginning).  "
   ]
  },
  {
   "cell_type": "code",
   "execution_count": 54,
   "metadata": {},
   "outputs": [
    {
     "name": "stdout",
     "output_type": "stream",
     "text": [
      "match  :  abcd2\n",
      "search :  abcd2\n",
      "match  :  o___0\n",
      "search :  o___0\n",
      "match  :  abcd2..\n",
      "search :  abcd2..\n",
      "search :  ..abcd2\n"
     ]
    }
   ],
   "source": [
    "import re\n",
    "\n",
    "regex = r'[a-z].{3}[0-9]'    # 5 chars string starting with a letter and ending with a digit\n",
    "\n",
    "strings =[\n",
    "    'abcd2',                 # Match\n",
    "    'o___0',                 # Match\n",
    "    'abcd2..',               # Match    (matching substring at the beginning of the string)\n",
    "    'abcdef',                # No match (missing digit)\n",
    "    '12345',                 # No match (missing letter)\n",
    "    '..abcd2'                # No match (matching part should be at the beginning of the string) \n",
    "]\n",
    "\n",
    "for s in strings:\n",
    "    if re.match(regex, s):    # Match object or None if no match\n",
    "        print('match  : ', s)\n",
    "    if re.search(regex, s):   # Match object or None if no match\n",
    "        print('search : ', s)\n",
    "        "
   ]
  },
  {
   "cell_type": "markdown",
   "metadata": {},
   "source": [
    "If the pattern defines some groups, we can access their values in the match object :"
   ]
  },
  {
   "cell_type": "code",
   "execution_count": 55,
   "metadata": {},
   "outputs": [
    {
     "name": "stdout",
     "output_type": "stream",
     "text": [
      "{'name': 'Jim', 'age': '20', 'hobby': 'playing tennis'}\n",
      "{'name': 'Sara', 'age': '29', 'hobby': 'shopping'}\n"
     ]
    }
   ],
   "source": [
    "regex = r'(.*) is (\\d+) years old and likes (.*)\\.'\n",
    "\n",
    "input = [\n",
    "    'Jim is 20 years old and likes playing tennis.',\n",
    "    'Sara is 29 years old and likes shopping.'\n",
    "]\n",
    "\n",
    "for line in input:\n",
    "    match = re.match(regex, line)\n",
    "    person = {'name': match.group(1), 'age': match.group(2), 'hobby': match.group(3)}\n",
    "    print(person)"
   ]
  },
  {
   "cell_type": "markdown",
   "metadata": {},
   "source": [
    "We can access the start and end indices of the match :"
   ]
  },
  {
   "cell_type": "code",
   "execution_count": 56,
   "metadata": {},
   "outputs": [
    {
     "data": {
      "text/plain": [
       "(15, 18)"
      ]
     },
     "execution_count": 56,
     "metadata": {},
     "output_type": "execute_result"
    }
   ],
   "source": [
    "regex = '[aeuio]{3}'           # 3 consecutive vowels\n",
    "match = re.search(regex, 'Long live the queen!')\n",
    "match.group()                  # uee\n",
    "match.start()                  # 15\n",
    "match.end()                    # 18\n",
    "match.span()                   # (15, 18)"
   ]
  },
  {
   "cell_type": "markdown",
   "metadata": {},
   "source": [
    "### Find all substrings matching a regex"
   ]
  },
  {
   "cell_type": "code",
   "execution_count": 57,
   "metadata": {},
   "outputs": [
    {
     "data": {
      "text/plain": [
       "['36', '3']"
      ]
     },
     "execution_count": 57,
     "metadata": {},
     "output_type": "execute_result"
    }
   ],
   "source": [
    "# re.findall(pattern, str) returns the list of matching substrings.\n",
    "re.findall('\\d+', 'I am 36 years old and have 3 children.')"
   ]
  },
  {
   "cell_type": "code",
   "execution_count": 58,
   "metadata": {},
   "outputs": [
    {
     "name": "stdout",
     "output_type": "stream",
     "text": [
      "36\n",
      "3\n"
     ]
    }
   ],
   "source": [
    "# iterate over all matches \n",
    "for m in re.finditer('\\d+', 'I am 36 years old and have 3 children.'):\n",
    "    print(m.group())"
   ]
  },
  {
   "cell_type": "code",
   "execution_count": 59,
   "metadata": {},
   "outputs": [
    {
     "data": {
      "text/plain": [
       "['', 'Tom', 'Anna', 'Jim', '']"
      ]
     },
     "execution_count": 59,
     "metadata": {},
     "output_type": "execute_result"
    }
   ],
   "source": [
    "# split the string on substrings matching the regex\n",
    "re.split('_+', '_Tom___Anna_Jim___')"
   ]
  },
  {
   "cell_type": "markdown",
   "metadata": {},
   "source": [
    "### Replace all matches of a regex"
   ]
  },
  {
   "cell_type": "code",
   "execution_count": 60,
   "metadata": {},
   "outputs": [
    {
     "data": {
      "text/plain": [
       "'Shakespeare was born in ____ and died in ____.'"
      ]
     },
     "execution_count": 60,
     "metadata": {},
     "output_type": "execute_result"
    }
   ],
   "source": [
    "# Replace the matches with a hardcoded string\n",
    "re.sub(r'\\d+', '____', 'Shakespeare was born in 1564 and died in 1616.')"
   ]
  },
  {
   "cell_type": "code",
   "execution_count": 61,
   "metadata": {},
   "outputs": [
    {
     "data": {
      "text/plain": [
       "'Shakespeare was born in [ a. 1564  b. 1565 ] and died in [ a. 1616  b. 1617 ].'"
      ]
     },
     "execution_count": 61,
     "metadata": {},
     "output_type": "execute_result"
    }
   ],
   "source": [
    "# Replace the matches with the result of a function\n",
    "def fn(match):\n",
    "    year = int(match.group())\n",
    "    return r'[ a. {0}  b. {1} ]'.format(year, year+1)\n",
    "\n",
    "re.sub(r'\\d+', fn, 'Shakespeare was born in 1564 and died in 1616.')"
   ]
  },
  {
   "cell_type": "markdown",
   "metadata": {},
   "source": [
    "### Look ahead and look behind\n",
    "\n",
    "We can create some complex regex matching a substring with a condition on the previous characters (look behind) or the next characters (look ahead).  \n",
    "We can use the following patterns in the regex :\n",
    "- `(?<=B)` : check if the previous character is a \"B\"\n",
    "- `(?<!B)` : check if the previous character is not a \"B\"\n",
    "- `(?=B)` : check if the next character is a \"B\"\n",
    "- `(?!B)` : check if the next character is not a \"B\""
   ]
  },
  {
   "cell_type": "code",
   "execution_count": 62,
   "metadata": {},
   "outputs": [
    {
     "data": {
      "text/plain": [
       "['bc', 'd']"
      ]
     },
     "execution_count": 62,
     "metadata": {},
     "output_type": "execute_result"
    }
   ],
   "source": [
    "regex = r'(?<=\\d)[a-z]+(?=\\d)'             # group of letters between digits\n",
    "re.findall(regex, 'a12bc3d4f')"
   ]
  },
  {
   "cell_type": "code",
   "execution_count": 63,
   "metadata": {},
   "outputs": [
    {
     "data": {
      "text/plain": [
       "['A', 'B']"
      ]
     },
     "execution_count": 63,
     "metadata": {},
     "output_type": "execute_result"
    }
   ],
   "source": [
    "regex = r'(?<!#)[A-Z](?!#)'               # letters that are not next to a wall (#)\n",
    "re.findall(regex, '#..A.BC#')         "
   ]
  },
  {
   "cell_type": "markdown",
   "metadata": {},
   "source": [
    "We can reference the result of a captured group of the regex using `\\1`, `\\2`, ..."
   ]
  },
  {
   "cell_type": "code",
   "execution_count": 64,
   "metadata": {},
   "outputs": [
    {
     "name": "stdout",
     "output_type": "stream",
     "text": [
      "333\n",
      "555\n"
     ]
    },
    {
     "data": {
      "text/plain": [
       "['2', '3']"
      ]
     },
     "execution_count": 64,
     "metadata": {},
     "output_type": "execute_result"
    }
   ],
   "source": [
    "regex = r'(\\d)\\1\\1'                             # 3 identical digits in a row\n",
    "for match in re.finditer(regex, '11233344555'):\n",
    "    print(match.group())\n",
    "\n",
    "\n",
    "regex = r'(?<=(\\d))\\d(?=\\1)'                    # digit surrounded by two identical digits\n",
    "re.findall(regex, '123234')"
   ]
  }
 ],
 "metadata": {
  "kernelspec": {
   "display_name": "Python 3",
   "language": "python",
   "name": "python3"
  },
  "language_info": {
   "codemirror_mode": {
    "name": "ipython",
    "version": 3
   },
   "file_extension": ".py",
   "mimetype": "text/x-python",
   "name": "python",
   "nbconvert_exporter": "python",
   "pygments_lexer": "ipython3",
   "version": "3.8.6"
  }
 },
 "nbformat": 4,
 "nbformat_minor": 4
}
