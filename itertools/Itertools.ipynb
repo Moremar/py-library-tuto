{
 "cells": [
  {
   "cell_type": "markdown",
   "metadata": {},
   "source": [
    "# Itertools module\n",
    "\n",
    "The builtin Python module `itertools` offers some common iterators for more complex traversal or filtering.\n",
    "\n",
    "### Infinite iterators\n",
    "\n",
    "- `itertools.count(n)` iterates on all integers starting from n.\n",
    "- `itertools.cycle(L)` iterates on all items of the list L and starts again from the start when reaching the end.\n",
    "- `itertools.repeat(k, [max])` repeats endlessly the same value k.\n"
   ]
  },
  {
   "cell_type": "code",
   "execution_count": 102,
   "metadata": {},
   "outputs": [
    {
     "name": "stdout",
     "output_type": "stream",
     "text": [
      "1332 \n",
      "\n",
      "1 2 3 1 2 3 1 2 3 1 \n",
      "\n",
      "5 5 5 5 5 5 5 5 5 5 \n",
      "\n",
      "[0, 1, 4, 9, 16, 25, 36, 49, 64, 81]\n"
     ]
    }
   ],
   "source": [
    "import itertools\n",
    "\n",
    "# first int bigger than 1000 multiple of 333\n",
    "for i in itertools.count(1000):\n",
    "    if i % 333 == 0:\n",
    "        print(i, '\\n')\n",
    "        break\n",
    "\n",
    "# 10 first elements of the cycle\n",
    "count = 0\n",
    "for i in itertools.cycle([1, 2, 3]):\n",
    "    count += 1\n",
    "    print(i, end=' ')\n",
    "    if count == 10:\n",
    "        break\n",
    "print('\\n')\n",
    "\n",
    "# 10 iterations of the repetition\n",
    "count = 0\n",
    "for i in itertools.repeat(5):\n",
    "    count += 1\n",
    "    print(i, end=' ')\n",
    "    if count == 10:\n",
    "        break\n",
    "print('\\n')\n",
    "\n",
    "# repeat can be used to give an argument to a function using map\n",
    "squares = map(pow, range(10), itertools.repeat(2))\n",
    "print(list(squares))"
   ]
  },
  {
   "cell_type": "markdown",
   "metadata": {},
   "source": [
    "### Combinatoric iterators\n",
    "\n",
    "- `itertools.product(A, B)` iterates on all (a, b) pairs with a in A and b in B\n",
    "- `itertools.permutations(A, k)` iterates on all permutations of k elements in A (`xy` and `yx` are different permutations)\n",
    "- `itertools.combinations(A, k)` iterates on all combinations of k elements in A (`xy` and `yx` are the same combination)\n",
    "- `itertools.combinations_with_replacement(A, k)` iterates on all combinations of k elements in A (an element can appear multiple times)\n",
    "\n"
   ]
  },
  {
   "cell_type": "code",
   "execution_count": 92,
   "metadata": {},
   "outputs": [
    {
     "name": "stdout",
     "output_type": "stream",
     "text": [
      "('A', 1) ('A', 2) ('B', 1) ('B', 2) ('C', 1) ('C', 2) \n",
      "\n",
      "(1, 1, 1) (1, 1, 2) (1, 2, 1) (1, 2, 2) (2, 1, 1) (2, 1, 2) (2, 2, 1) (2, 2, 2) \n",
      "\n",
      "('A', 'B') ('A', 'C') ('B', 'A') ('B', 'C') ('C', 'A') ('C', 'B') \n",
      "\n",
      "('A', 'B') ('A', 'C') ('B', 'C') \n",
      "\n",
      "('A', 'A') ('A', 'B') ('A', 'C') ('B', 'B') ('B', 'C') ('C', 'C') \n",
      "\n"
     ]
    }
   ],
   "source": [
    "# All pairs or (x, y) with x in 'ABC' and y in [1, 2]\n",
    "for p in itertools.product('ABC', [1, 2]):\n",
    "    print(p, end=' ')\n",
    "print('\\n')\n",
    "\n",
    "# All pairs or (x, y, z) with x, y and z in [1, 2]\n",
    "for p in itertools.product([1, 2], repeat=3):\n",
    "    print(p, end=' ')\n",
    "print('\\n')\n",
    "\n",
    "# All permutations of 2 letters of ABC (the order does matter)\n",
    "for p in itertools.permutations('ABC', 2):\n",
    "    print(p, end=' ')\n",
    "print('\\n')\n",
    "\n",
    "# All combinations of 2 letters of ABC (the order does not matter)'\n",
    "for p in itertools.combinations('ABC', 2):\n",
    "    print(p, end=' ')\n",
    "print('\\n')\n",
    "\n",
    "# All combinations of 2 letters of ABC (the order does not matter but repetitions are allowed)'\n",
    "for p in itertools.combinations_with_replacement('ABC', 2):\n",
    "    print(p, end=' ')\n",
    "print('\\n')"
   ]
  },
  {
   "cell_type": "markdown",
   "metadata": {},
   "source": [
    "### Filtering iterators\n",
    "\n",
    "Some iterators let us filter the items from an existing iterator :\n",
    "- `itertools.islice(it, [start_idx], end_idx, [step])` iterates on a slice of an iterator.\n",
    "- `itertools.filterfalse(fn, it)` is similar to the builtin `filter`, but iterates on elements returning False.\n",
    "- `itertools.compress(it, list of True|False)` is similar to the builtin `filter`, it iterates only on elements of the iterator for which the selector is True.\n",
    "- `itertools.dropwhile(fn, it)` skips all items until one returns False, then iterates on all remaining items.\n",
    "- `itertools.takewhile(fn, it)` iterates on items until one returns False, then it stops."
   ]
  },
  {
   "cell_type": "code",
   "execution_count": 93,
   "metadata": {},
   "outputs": [
    {
     "name": "stdout",
     "output_type": "stream",
     "text": [
      "[10, 12, 14, 16, 18]\n"
     ]
    }
   ],
   "source": [
    "# iterate on a slice of an iterator (all even indices between 10 and 20)\n",
    "res = itertools.islice(range(100), 10, 20, 2)\n",
    "print(list(res))"
   ]
  },
  {
   "cell_type": "code",
   "execution_count": 94,
   "metadata": {},
   "outputs": [
    {
     "name": "stdout",
     "output_type": "stream",
     "text": [
      "[5, 10, 15, 20]\n",
      "[1, 2, 3, 4, 6, 7, 8, 9, 11, 12, 13, 14, 16, 17, 18, 19]\n",
      "[5, 10, 15, 20]\n",
      "[5, 6, 7, 8, 9, 10, 11, 12, 13, 14, 15, 16, 17, 18, 19, 20]\n",
      "[1, 2, 3, 4]\n"
     ]
    }
   ],
   "source": [
    "is_multiple_of_5 = lambda x: x % 5 == 0 \n",
    "is_not_multiple_of_5 = lambda x: not is_multiple_of_5(x)\n",
    "\n",
    "# iterate only on multiples of 5 using a filtering function\n",
    "filtered = filter(is_multiple_of_5, range(1, 21))\n",
    "print(list(filtered))\n",
    "\n",
    "# iterate only on non multiples of 5 using a filtering function\n",
    "filtered_false = itertools.filterfalse(is_multiple_of_5, range(1, 21))\n",
    "print(list(filtered_false))\n",
    "\n",
    "# iterate only on multiples of 5 using an iterator of bool\n",
    "compressed = itertools.compress(range(1, 21), itertools.cycle([False, False, False, False, True]))\n",
    "print(list(compressed))\n",
    "\n",
    "# skip items until one is a multiple of 5, then iterate on the rest of the items\n",
    "res = itertools.dropwhile(is_not_multiple_of_5, range(1, 21))\n",
    "print(list(res))\n",
    "\n",
    "# iterate on items until one is a multiple of 5\n",
    "res = itertools.takewhile(is_not_multiple_of_5, range(1, 21))\n",
    "print(list(res))\n"
   ]
  },
  {
   "cell_type": "markdown",
   "metadata": {},
   "source": [
    "### Other iterators\n",
    "\n",
    "- `itertools.zip_longest(it1, it2)` is similar to the builtin `zip`, but does not stop when the shortest iterable is finished.\n",
    "- `itertools.starmap(fn, tuple_list)` is similar to the builtin `map`, but it takes the parameters an an iterable of tuples (instead of several iterables).\n",
    "- `itertools.chain(it1, it2, ...)` iterates successively on the items of each iterable.\n",
    "- `itertools.accumulate(it)` iterates on the aggregation of items in the iterator (sum by default)\n",
    "- `itertools.groupby(it, key_fn)` splits an iterator into a list of iterators grouped by the result of the key function (one iterator per key).  \n",
    "  __Note :__ It requires the input to be sorted by key first.\n",
    "- `itertools.tee(it)` duplicates an iterator into 2 identical iterators (analogy to a T pipe)  \n",
    "  __Note :__ The original iterator should no longer be used after the call."
   ]
  },
  {
   "cell_type": "code",
   "execution_count": 95,
   "metadata": {},
   "outputs": [
    {
     "name": "stdout",
     "output_type": "stream",
     "text": [
      "[(0, 0), (1, 1), (2, 4), (3, 9), (4, 16), (5, 0), (6, 0), (7, 0), (8, 0), (9, 0)]\n"
     ]
    }
   ],
   "source": [
    "# Zip the 2 iterables and use 0 to fill the shortest iterable\n",
    "A = range(10)\n",
    "B = [x**2 for x in range(5)]\n",
    "print(list(itertools.zip_longest(A, B, fillvalue=0)))"
   ]
  },
  {
   "cell_type": "code",
   "execution_count": 96,
   "metadata": {},
   "outputs": [
    {
     "name": "stdout",
     "output_type": "stream",
     "text": [
      "[0, 1, 4, 9, 16]\n"
     ]
    }
   ],
   "source": [
    "# starmap used to provide parameters grouped as a tuple\n",
    "squares = map(pow, range(4), itertools.repeat(2))   # parameters are provided in 2 iterables\n",
    "squares = itertools.starmap(pow, [(0, 2), (1, 2), (2, 2), (3, 2), (4, 2)]) # parameters in a single iterable\n",
    "print(list(squares))"
   ]
  },
  {
   "cell_type": "code",
   "execution_count": 97,
   "metadata": {},
   "outputs": [
    {
     "name": "stdout",
     "output_type": "stream",
     "text": [
      "[0, 1, 2, 3, 4, 10, 11, 12, 13, 14]\n"
     ]
    }
   ],
   "source": [
    "# iterate on several iterables\n",
    "A = range(5)\n",
    "B = range(10, 15)\n",
    "chain = itertools.chain(A, B)\n",
    "print(list(chain))"
   ]
  },
  {
   "cell_type": "code",
   "execution_count": 98,
   "metadata": {},
   "outputs": [
    {
     "name": "stdout",
     "output_type": "stream",
     "text": [
      "[1, 3, 6, 10, 15, 21, 28, 36, 45, 55]\n",
      "[1, 2, 6, 24, 120, 720, 5040, 40320, 362880, 3628800]\n"
     ]
    }
   ],
   "source": [
    "# accumulate on the sum of integers\n",
    "accumulated = itertools.accumulate(range(1, 11))\n",
    "print(list(accumulated))\n",
    "\n",
    "# accumulate on the product of the integers\n",
    "accumulated = itertools.accumulate(range(1, 11), lambda x, y: x*y)\n",
    "print(list(accumulated))"
   ]
  },
  {
   "cell_type": "code",
   "execution_count": 103,
   "metadata": {},
   "outputs": [
    {
     "name": "stdout",
     "output_type": "stream",
     "text": [
      "0 => [0, 2, 4, 6, 8, 10, 12, 14, 16, 18]\n",
      "1 => [1, 3, 5, 7, 9, 11, 13, 15, 17, 19]\n"
     ]
    }
   ],
   "source": [
    "is_even = lambda x : x % 2\n",
    "\n",
    "# itertools.groupby() only works if the input list/iterator is sorted by key already !\n",
    "L = sorted(range(20), key=is_even)\n",
    "\n",
    "grouped = itertools.groupby(L, is_even)\n",
    "for (key, group) in grouped:\n",
    "    print(key, '=>', list(group))\n"
   ]
  },
  {
   "cell_type": "code",
   "execution_count": 100,
   "metadata": {},
   "outputs": [
    {
     "name": "stdout",
     "output_type": "stream",
     "text": [
      "[0, 1, 2, 3, 4, 5, 6, 7, 8, 9]\n",
      "[0, 1, 2, 3, 4, 5, 6, 7, 8, 9]\n"
     ]
    }
   ],
   "source": [
    "# duplicate an iterator to have 2 independent copies of it\n",
    "original_it = range(10)\n",
    "copy1, copy2 = itertools.tee(original_it)\n",
    "# should no longer use original_it\n",
    "print(list(copy1))\n",
    "print(list(copy2))"
   ]
  }
 ],
 "metadata": {
  "kernelspec": {
   "display_name": "Python 3",
   "language": "python",
   "name": "python3"
  },
  "language_info": {
   "codemirror_mode": {
    "name": "ipython",
    "version": 3
   },
   "file_extension": ".py",
   "mimetype": "text/x-python",
   "name": "python",
   "nbconvert_exporter": "python",
   "pygments_lexer": "ipython3",
   "version": "3.8.6"
  }
 },
 "nbformat": 4,
 "nbformat_minor": 4
}
