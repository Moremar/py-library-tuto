{
 "cells": [
  {
   "cell_type": "code",
   "execution_count": 2,
   "metadata": {},
   "outputs": [],
   "source": [
    "%matplotlib inline  \n",
    "import numpy as np\n",
    "import matplotlib.pyplot as plt\n",
    "from math import sqrt, pi, exp"
   ]
  },
  {
   "cell_type": "markdown",
   "metadata": {},
   "source": [
    "# Numpy library\n",
    "\n",
    "## Purpose\n",
    "\n",
    "Numpy is a Python library for mathematical functionalities (matrices, probabilities, ...).   \n",
    "Combined with the Matplotlib library for drawing the graphs, it can be compared to Matlab.\n",
    "\n",
    "## Numpy arrays\n",
    "\n",
    "Numpy `ndarray`  (or its alias `array`) represents an n-dimensional lists of elements.  \n",
    "All elements in an array must have the same type.  \n",
    "The type is either infered to the most generic or can be explicitely specified.\n"
   ]
  },
  {
   "cell_type": "code",
   "execution_count": 77,
   "metadata": {},
   "outputs": [],
   "source": [
    "m1 = np.array([1, 2, 3])                # 1D array of type int\n",
    "m2 = np.array([[1, 2], [1.5, 3]])       # 2D array of type float\n",
    "m3 = np.array([1, 2], dtype='float32')  # 1D array of type float"
   ]
  },
  {
   "cell_type": "markdown",
   "metadata": {},
   "source": [
    "Pre-constructed arrays :"
   ]
  },
  {
   "cell_type": "code",
   "execution_count": 141,
   "metadata": {
    "scrolled": true
   },
   "outputs": [
    {
     "data": {
      "text/plain": [
       "array([0., 0., 0., 0., 0., 0., 0., 0., 0., 0., 0., 0., 0., 0., 0., 0., 0.,\n",
       "       0., 0., 0., 0., 0., 0., 0., 0., 0., 0., 0., 0., 0., 0., 0., 0., 0.,\n",
       "       0., 0., 0., 0., 0., 0., 0., 0., 0., 0., 0., 0., 0., 0., 0., 0., 0.,\n",
       "       0., 0., 0., 0., 0., 0., 0., 0., 0., 0., 0., 0., 0., 0., 0., 0., 0.,\n",
       "       0., 0., 0., 0., 0., 0., 0., 0., 0., 0., 0., 0., 0., 0., 0., 0., 0.,\n",
       "       0., 0., 0., 0., 0., 0., 0., 0., 0., 0., 0., 0., 0., 0., 0.])"
      ]
     },
     "execution_count": 141,
     "metadata": {},
     "output_type": "execute_result"
    }
   ],
   "source": [
    "np.zeros(10, dtype=int)       # 1x10 array of 0\n",
    "np.ones((3, 5), dtype=float)  # 3x5  array of 1\n",
    "np.full((3, 5), 3.14)         # 3x5  array of 3.14\n",
    "np.arange(0, 20, 2)           # [0, 2, 4, ..., 18] (same as builtin \"range\" but returns an array)\n",
    "np.linspace(0, 1, 5)          # [0, 0.25, 0.5, 0.75. 1] 5 values regularly spaced between 0 and 1\n",
    "np.random.random((3, 3))      # 3x3 array of random uniform float values between 0 and 1\n",
    "np.eye(3)                     # 3x3 identity matrix (1 on the diagonal)\n",
    "np.empty(100)                 # uninotialized array"
   ]
  },
  {
   "cell_type": "markdown",
   "metadata": {},
   "source": [
    "Property of Numpy arrays :"
   ]
  },
  {
   "cell_type": "code",
   "execution_count": 3,
   "metadata": {},
   "outputs": [
    {
     "data": {
      "text/plain": [
       "array([2, 4, 6])"
      ]
     },
     "execution_count": 3,
     "metadata": {},
     "output_type": "execute_result"
    }
   ],
   "source": [
    "arr = np.array([[1, 2, 3], [4, 5, 6]])\n",
    "arr.size              # 6\n",
    "arr.shape             # (2, 3)\n",
    "arr.dtype             # int64\n",
    "arr.ndim              # 2\n",
    "a = arr.itemsize      # 8  (size in memory, same as arr.dtype.itemsize)\n",
    "\n",
    "# indexing/slicing uses commas to separate each dimension\n",
    "arr[0,:]              # first line\n",
    "arr[:,0]              # first column\n",
    "arr[:2,:2]            # 2x2 square at the top left of the array\n",
    "arr[arr%2==0]         # indexing on a condition gives only the values verifying the condition [2, 4, 6]\n",
    "\n",
    "arr1 = np.array([1, 2])\n",
    "arr2 = np.array([3, 4])\n",
    "np.concatenate([arr1, arr2])     # [1, 2, 3, 4]\n",
    "\n",
    "# vstack and hstack for vertical/horizontal concatenation :\n",
    "arr3 = np.array([[5, 6],\n",
    "                 [7, 8]])\n",
    "np.vstack([arr1, arr2, arr3])\n",
    "\n",
    "# remove duplicates\n",
    "A = np.array([1, 2, 1, 4, 2, 3])\n",
    "np.unique(A)                                  # array of unique values (no duplicate)\n",
    "vals, idx = np.unique(A, return_index=True)   # array of unique values with their index"
   ]
  },
  {
   "cell_type": "markdown",
   "metadata": {},
   "source": [
    "To perform operations on numpy arrays, we should avoid loops, that usually perform a lot of time consuming operations.   \n",
    "Numpy allows to perform basic operations or functions on the array itself, and it applies it to all elements :"
   ]
  },
  {
   "cell_type": "code",
   "execution_count": 108,
   "metadata": {},
   "outputs": [
    {
     "data": {
      "text/plain": [
       "array([[0, 0, 1],\n",
       "       [1, 1, 1]])"
      ]
     },
     "execution_count": 108,
     "metadata": {},
     "output_type": "execute_result"
    }
   ],
   "source": [
    "arr = np.array([[1, 2, 3], [4, 5, 6]])\n",
    "10 + arr                 # add 10 to all cells\n",
    "arr / 2                  # divide by 2 all elements\n",
    "np.exp(arr)              # take the exp of all elements\n",
    "arr > 2                  # for each element, tell whether it is > 2\n",
    "np.where(arr > 2, 1, 0)  # array with 1 if the condition is true else 0"
   ]
  },
  {
   "cell_type": "markdown",
   "metadata": {},
   "source": [
    "Built-in operations on arrays :"
   ]
  },
  {
   "cell_type": "code",
   "execution_count": 207,
   "metadata": {},
   "outputs": [
    {
     "data": {
      "text/plain": [
       "array([1, 2, 3, 4, 5, 6])"
      ]
     },
     "execution_count": 207,
     "metadata": {},
     "output_type": "execute_result"
    }
   ],
   "source": [
    "matrix = np.array([[1,2,3], [4, 5, 6]])      # matrix definition\n",
    "np.sum(matrix)                               # sum all elements: 21\n",
    "np.sum(matrix, 0)                            # sum by column: [5, 7, 9]\n",
    "np.sum(matrix, 1)                            # sum by line:   [6, 15]\n",
    "np.mean(matrix)                              # mean value of the elements\n",
    "np.std(matrix)                               # standard deviation of the elements\n",
    "np.var(matrix)                               # (std)^2\n",
    "np.sort(matrix)                              # sort each line of the matrix\n",
    "np.flip(matrix)                              # reverse the array on all axes\n",
    "np.flip(matrix, 0)                           # reverse on axis 0 (column order unchanged)\n",
    "np.flip(matrix, 1)                           # reverse on axis 1 (line order unchanged)\n",
    "matrix.flatten()                             # reshape into a 1D vector\n",
    "\n",
    "A = np.array([[1, 2], [3, 4]])\n",
    "B = np.ones((2, 2), dtype=np.int32)\n",
    "A * B                                        # element-wise product\n",
    "A @ B                                        # matrix product\n",
    "\n",
    "A.flatten()                                  # flatten A into [1, 2, 3, 4] as a new array\n",
    "A.ravel()                                    # flatten A into [1, 2, 3, 4] as a view (changes will affect original)\n",
    "A.T                                          # transposed matrix\n",
    "A.reshape(4, 1)                              # reshape A into a new (4, 1) matrix\n",
    "A.resize(4, 1)                               # reshape A itself (not a copy)\n",
    "\n",
    "A = np.array([[1, 2, 3, 4, 5, 6],\n",
    "              [7, 8, 9, 10, 11, 12]])\n",
    "np.hsplit(A, 3)                              # split lines to create 3 sub-arrays of the same size (2x2)\n",
    "np.vsplit(A, 2)                              # split columns to create 2 sub-arrays of the same size (1x4)\n",
    "\n",
    "A.view()                                     # new ndarray on the same data \n",
    "                                             # (so reshape does not change A element assignment does)\n",
    "A.copy()                                     # deep copy of the ndarray\n",
    "\n"
   ]
  },
  {
   "cell_type": "markdown",
   "metadata": {},
   "source": [
    "## Linear Algebra\n",
    "\n",
    "Some linear algebra tools are available under `np.linarg` :"
   ]
  },
  {
   "cell_type": "code",
   "execution_count": 173,
   "metadata": {},
   "outputs": [
    {
     "data": {
      "text/plain": [
       "array([8., 2.])"
      ]
     },
     "execution_count": 173,
     "metadata": {},
     "output_type": "execute_result"
    }
   ],
   "source": [
    "A = np.array([[1, 2], [3, 4]])\n",
    "np.linalg.inv(A)                             # Matrix Inverse\n",
    "\n",
    "#  x +  y = 10\n",
    "# 2x - 3y = 10\n",
    "A = np.array([[1, 1], [2, -3]])\n",
    "B = np.array([10, 10])\n",
    "np.linalg.solve(A, B)                        # solve a linear system from the matrix representation"
   ]
  },
  {
   "cell_type": "markdown",
   "metadata": {},
   "source": [
    "## Random\n",
    "\n",
    "Some tools to manipulate repeatable pseudo-random sequences are available under `np.random` :"
   ]
  },
  {
   "cell_type": "code",
   "execution_count": 5,
   "metadata": {},
   "outputs": [
    {
     "data": {
      "image/png": "[encoded data removed]",
      "text/plain": [
       "<Figure size 432x288 with 1 Axes>"
      ]
     },
     "metadata": {
      "needs_background": "light"
     },
     "output_type": "display_data"
    }
   ],
   "source": [
    "from numpy.random import default_rng\n",
    "\n",
    "seed = 1234\n",
    "rng = np.random.default_rng(seed)         # random generator from a given seed\n",
    "vals1 = rng.standard_normal(10)           # 10 values following N(0, 1)\n",
    "vals2 = rng.standard_normal(10)           # other 10 values following N(0, 1)\n",
    "rng.random()                              # random float in [0, 1]\n",
    "rng.integers(low=0, high=10, size=3)      # 3 random integers between o and 10\n",
    "\n",
    "# random distribution in [0, 1]\n",
    "vector = rng.random(30)                   # 30 random floats in [0, 1]\n",
    "matrix = rng.random((2, 30))              # 2 lines of 30 random floats in [0, 1]\n",
    "plot = plt.scatter(range(30), vector,    color='green')\n",
    "plot = plt.scatter(range(30), matrix[0], color='red')\n",
    "plot = plt.scatter(range(30), matrix[1], color='cyan')"
   ]
  },
  {
   "cell_type": "markdown",
   "metadata": {},
   "source": [
    "## Common probability distribution\n",
    "\n",
    "Numpy random generators offer some common distributions :"
   ]
  },
  {
   "cell_type": "code",
   "execution_count": 55,
   "metadata": {},
   "outputs": [
    {
     "data": {
      "text/plain": [
       "(array([494., 275., 119.,  52.,  25.,  22.,   5.,   5.,   2.,   1.]),\n",
       " array([5.28822578e-03, 7.48420749e+00, 1.49631268e+01, 2.24420460e+01,\n",
       "        2.99209653e+01, 3.73998846e+01, 4.48788038e+01, 5.23577231e+01,\n",
       "        5.98366423e+01, 6.73155616e+01, 7.47944809e+01]),\n",
       " <BarContainer object of 10 artists>)"
      ]
     },
     "execution_count": 55,
     "metadata": {},
     "output_type": "execute_result"
    },
    {
     "data": {
      "image/png": "[encoded data removed]",
      "text/plain": [
       "<Figure size 432x288 with 4 Axes>"
      ]
     },
     "metadata": {
      "needs_background": "light"
     },
     "output_type": "display_data"
    }
   ],
   "source": [
    "_, ax = plt.subplots(2,2)\n",
    "plt.subplots_adjust(wspace=0.2, hspace=0.5)\n",
    "\n",
    "a = rng.uniform(150, 200, 500)\n",
    "ax[0,0].set_title('Uniform (150, 200)')\n",
    "ax[0,0].hist(a, bins=np.arange(145, 210, 5), color=\"beige\", edgecolor=\"black\")\n",
    "\n",
    "a = rng.normal(175, 10, 500)\n",
    "ax[0,1].set_title('Normal (175, 10)')\n",
    "ax[0,1].hist(a, bins=np.arange(145, 210, 5), color=\"beige\", edgecolor=\"black\")\n",
    "\n",
    "n, p = 300, 1/3\n",
    "a = rng.binomial(n, p, 1000)\n",
    "ax[1,0].set_title('Binomial (300, 1/3)')\n",
    "ax[1,0].hist(a, color=\"beige\", edgecolor=\"black\")\n",
    "\n",
    "scale = 10        # scale = 1/lambda\n",
    "a = rng.exponential(scale, 1000)\n",
    "ax[1,1].set_title('Exponential (1/10)')\n",
    "ax[1,1].hist(a, color=\"beige\", edgecolor=\"black\")\n"
   ]
  }
 ],
 "metadata": {
  "kernelspec": {
   "display_name": "Python 3",
   "language": "python",
   "name": "python3"
  },
  "language_info": {
   "codemirror_mode": {
    "name": "ipython",
    "version": 3
   },
   "file_extension": ".py",
   "mimetype": "text/x-python",
   "name": "python",
   "nbconvert_exporter": "python",
   "pygments_lexer": "ipython3",
   "version": "3.8.6"
  }
 },
 "nbformat": 4,
 "nbformat_minor": 4
}
