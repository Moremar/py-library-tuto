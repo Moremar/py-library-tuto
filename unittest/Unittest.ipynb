{
 "cells": [
  {
   "cell_type": "markdown",
   "id": "3b9e87a1",
   "metadata": {},
   "source": [
    "# Unittest module\n",
    "\n",
    "`unittest` is the built-in python module for unit testing.\n",
    "\n",
    "\n",
    "### Unit test basics\n",
    "\n",
    "A unit test suite in Python is represented by a file with the `test_` prefix defining a class extending `unittest.TestCase`. &nbsp;  \n",
    "A unit test is represented by a method of this class with the `test_` prefix.  \n",
    "In a unit test, we can use some assertion methods inherited from the `TestCase` class :\n",
    "- self.assertEquals(a, b)\n",
    "- self.assertTrue(a)\n",
    "- self.assertFalse(a)\n",
    "- self.assertRaises(err)\n",
    "- self.assertIn(a, list)\n",
    "-...\n",
    "\n"
   ]
  },
  {
   "cell_type": "code",
   "execution_count": null,
   "id": "35f80ea1",
   "metadata": {},
   "outputs": [],
   "source": [
    "import unittest\n",
    "\n",
    "# import the module containing functions or classes to test\n",
    "from calc import add\n",
    "\n",
    "\n",
    "class TestCalculation(unittest.TestCase):\n",
    "    \n",
    "    def test_add(self):\n",
    "        self.assertEquals(add(1, 2), 3)\n",
    "        self.assertEquals(add(1, -2), -1)\n",
    "\n",
    "    def test_divide(self):\n",
    "        self.assertEquals(divide(1, 2), 0.5)\n",
    "        with self.assertRaises(ValueError):\n",
    "            divide(10, 0)\n",
    "\n",
    "\n",
    "# Allow to run the unit test directly\n",
    "if __name__ == '__main__':\n",
    "    unittest.main()"
   ]
  },
  {
   "cell_type": "markdown",
   "id": "90f56f68",
   "metadata": {},
   "source": [
    "### Setup and teardown\n",
    "\n",
    "We can override the `setUp(self)` and `tearDown(self)` methods to execute some code before or after each test function.\n",
    "\n",
    "We can override the `setUpClass(cls)` and `tearDownClass(cls)` class methods to execute some code once before or after all test functions.\n"
   ]
  },
  {
   "cell_type": "code",
   "execution_count": null,
   "id": "aeffe52b",
   "metadata": {},
   "outputs": [],
   "source": [
    "    @classmethod\n",
    "    def setUpClass(cls):\n",
    "        print('Called once before starting to run the tests')\n",
    "\n",
    "    @classmethod\n",
    "    def tearDownClass(cls):\n",
    "        print('Called once after finishing to run the tests')\n",
    "\n",
    "    def setUp(self):\n",
    "        print('Called before every single test')\n",
    "        self.calculator = Calculator(0, 0)\n",
    "\n",
    "    def tearDown(self):\n",
    "        print('Called after every single test')"
   ]
  },
  {
   "cell_type": "markdown",
   "id": "79f123f9",
   "metadata": {},
   "source": [
    "### Mocking objects in unit tests\n",
    "\n",
    "We can use the `patch()` function in `unittest.mock` to mock a function called in the code to test.  \n",
    "This can be used to mock the response of an HTTP call or to an external module.\n",
    "\n",
    "For example if the function to test uses the `requests` module to get an HTTP response :"
   ]
  },
  {
   "cell_type": "code",
   "execution_count": null,
   "id": "506a915e",
   "metadata": {
    "collapsed": true
   },
   "outputs": [],
   "source": [
    "class Calculator:\n",
    "    def __init__(self, a, b):\n",
    "        self.a = a\n",
    "        self.b = b\n",
    "\n",
    "    def process(self):\n",
    "        # HTTP call that we want to mock in the tests\n",
    "        response = requests.get(f'http://calculator.com/process?a={self.a}&b={self.b}')\n",
    "        if response.ok:\n",
    "            return response.text\n",
    "        else:\n",
    "            return None"
   ]
  },
  {
   "cell_type": "markdown",
   "id": "878f9c0b",
   "metadata": {},
   "source": [
    "The call to `requests.get(url)` can be mocked in the test with :"
   ]
  },
  {
   "cell_type": "code",
   "execution_count": null,
   "id": "dd65ab54",
   "metadata": {},
   "outputs": [],
   "source": [
    "    def test_process(self):\n",
    "        # Mock the call to requests.get() in the calculator class to simulate a success\n",
    "        with patch('calc.requests.get') as mocked_get:\n",
    "            mocked_get.return_value.ok = True\n",
    "            mocked_get.return_value.text = '1234'\n",
    "\n",
    "            calculator = Calculator(1, 2)\n",
    "            self.assertEqual(calculator.process(), '1234')\n",
    "            mocked_get.assert_called_with('http://calculator.com/process?a=1&b=2')\n",
    "\n",
    "        # Mock the call to requests.get() in the calculator class to simulate a failure\n",
    "        with patch('calc.requests.get') as mocked_get:\n",
    "            mocked_get.return_value.ok = False\n",
    "\n",
    "            calculator = Calculator(1, 2)\n",
    "            self.assertEqual(calculator.process(), None)\n",
    "            mocked_get.assert_called_with('http://calculator.com/process?a=1&b=2')"
   ]
  },
  {
   "cell_type": "markdown",
   "id": "cbf525ea",
   "metadata": {},
   "source": [
    "### Running the tests\n",
    "\n",
    "To run the unit test suite, we can use the command : `python3 -m unittest test_calc.py`\n",
    "\n",
    "If we run it without a test file specified, it will try to discover the test files : `python3 -m unittest`\n",
    "\n",
    "We can also run a test file directly with `python3 test_calc.py` if we add at the end the block to run the unittest `main()` method when ran directly.\n",
    "\n",
    "The default output is very concise :"
   ]
  },
  {
   "cell_type": "code",
   "execution_count": null,
   "id": "df3fe65c",
   "metadata": {},
   "outputs": [],
   "source": [
    "$> python3 -m unittest    \n",
    "...\n",
    "----------------------------------------------------------------------\n",
    "Ran 3 tests in 0.001s\n",
    "\n",
    "OK"
   ]
  },
  {
   "cell_type": "markdown",
   "id": "c2d00499",
   "metadata": {},
   "source": [
    "We can get a more verbose output with the `-v` flag :"
   ]
  },
  {
   "cell_type": "code",
   "execution_count": null,
   "id": "ba54b197",
   "metadata": {},
   "outputs": [],
   "source": [
    "$> python3 -m unittest -v\n",
    "test_add (test_calc.TestCalc) ... ok\n",
    "test_divide (test_calc.TestCalc) ... ok\n",
    "test_process (test_calc.TestCalc) ... ok\n",
    "\n",
    "----------------------------------------------------------------------\n",
    "Ran 3 tests in 0.001s\n",
    "\n",
    "OK"
   ]
  }
 ],
 "metadata": {
  "kernelspec": {
   "display_name": "Python 3 (ipykernel)",
   "language": "python",
   "name": "python3"
  },
  "language_info": {
   "codemirror_mode": {
    "name": "ipython",
    "version": 3
   },
   "file_extension": ".py",
   "mimetype": "text/x-python",
   "name": "python",
   "nbconvert_exporter": "python",
   "pygments_lexer": "ipython3",
   "version": "3.9.6"
  }
 },
 "nbformat": 4,
 "nbformat_minor": 5
}
