{
 "cells": [
  {
   "cell_type": "markdown",
   "metadata": {},
   "source": [
    "# Pendulum package\n",
    "\n",
    "`pendulum` is a Python package for datetime manipulation.  \n",
    "It is an enrichment of the builtin `datetime` package.\n",
    "\n",
    "\n",
    "### Datetime creation"
   ]
  },
  {
   "cell_type": "code",
   "execution_count": 126,
   "metadata": {},
   "outputs": [
    {
     "data": {
      "text/plain": [
       "DateTime(2021, 7, 3, 1, 18, 2, 123456, tzinfo=Timezone('UTC'))"
      ]
     },
     "execution_count": 126,
     "metadata": {},
     "output_type": "execute_result"
    }
   ],
   "source": [
    "import pendulum\n",
    "\n",
    "\n",
    "# Datetime in a given timezone\n",
    "now_in_local = pendulum.now()\n",
    "now_in_utc   = pendulum.now('UTC')\n",
    "now_in_paris = pendulum.now('Europe/Paris')\n",
    "now_in_tokyo = pendulum.now('Asia/Tokyo')\n",
    "\n",
    "# Time built manually\n",
    "pendulum.datetime(2021, 7, 2, tz='Asia/Tokyo')                    # use 00:00:00 if no time specified\n",
    "pendulum.datetime(2021, 7, 2, 10, 19, 35, tz='Asia/Tokyo')        # with time\n",
    "pendulum.datetime(2021, 7, 2, 10, 19, 35, 12345, tz='Asia/Tokyo') # with microseconds\n",
    "\n",
    "# Parse a datetime from a string\n",
    "pendulum.parse('2021-07-03T01:18:02.123456')"
   ]
  },
  {
   "cell_type": "markdown",
   "metadata": {},
   "source": [
    "### Operations on datetimes"
   ]
  },
  {
   "cell_type": "code",
   "execution_count": 127,
   "metadata": {},
   "outputs": [
    {
     "data": {
      "text/plain": [
       "DateTime(2021, 7, 2, 9, 0, 0, tzinfo=Timezone('UTC'))"
      ]
     },
     "execution_count": 127,
     "metadata": {},
     "output_type": "execute_result"
    }
   ],
   "source": [
    "# Timezone conversion\n",
    "dt = pendulum.datetime(2021, 7, 2, 18, 0, 0, tz='Asia/Tokyo')\n",
    "dt.in_timezone('UTC')"
   ]
  },
  {
   "cell_type": "code",
   "execution_count": 128,
   "metadata": {},
   "outputs": [
    {
     "data": {
      "text/plain": [
       "1"
      ]
     },
     "execution_count": 128,
     "metadata": {},
     "output_type": "execute_result"
    }
   ],
   "source": [
    "# Date/Time Operations\n",
    "\n",
    "today      = pendulum.today('UTC')     # set hour/min/sec to 0\n",
    "tomorrow   = today.add(days=1)\n",
    "last_week  = today.subtract(weeks=1)\n",
    "\n",
    "now        = pendulum.now('UTC')\n",
    "in_30_mins = now.add(minutes=30)\n",
    "in_30_mins.diff_for_humans()           # 'in 30 minutes'\n",
    "\n",
    "# Time intervals\n",
    "delta = tomorrow - last_week\n",
    "delta.in_words()                       # '1 week 1 day'\n",
    "\n",
    "now = pendulum.today()\n",
    "in_30_hours = now.add(hours=30)\n",
    "in_30_hours.diff(now).in_hours()       # 30\n",
    "in_30_hours.diff(now).in_minutes()     # 1800\n",
    "in_30_hours.diff(now).in_days()        # 1 (would be 2 if the 30 hours spanned over 3 days)"
   ]
  },
  {
   "cell_type": "markdown",
   "metadata": {},
   "source": [
    "### Datetime string formatting"
   ]
  },
  {
   "cell_type": "code",
   "execution_count": 140,
   "metadata": {},
   "outputs": [
    {
     "data": {
      "text/plain": [
       "'03/07/2021 01:18:02 AM'"
      ]
     },
     "execution_count": 140,
     "metadata": {},
     "output_type": "execute_result"
    }
   ],
   "source": [
    "dt = pendulum.parse('2021-07-03T01:18:02.123456')\n",
    "dt.to_date_string()                 # '2021-07-03'\n",
    "dt.to_time_string()                 # '01:18:02'\n",
    "dt.to_datetime_string()             # '2021-07-03 01:18:02'\n",
    "dt.to_day_datetime_string()         # 'Sat, Jul 3, 2021 1:18 AM'\n",
    "dt.to_iso8601_string()              # '2021-07-03T01:18:02.123456Z'\n",
    "dt.format('DD/MM/YYYY HH:mm:ss A')  # '03/07/2021 01:18:02 AM'"
   ]
  },
  {
   "cell_type": "markdown",
   "metadata": {},
   "source": [
    "### Pendulum datetime fields"
   ]
  },
  {
   "cell_type": "code",
   "execution_count": 130,
   "metadata": {},
   "outputs": [
    {
     "data": {
      "text/plain": [
       "1625275082"
      ]
     },
     "execution_count": 130,
     "metadata": {},
     "output_type": "execute_result"
    }
   ],
   "source": [
    "dt = pendulum.parse('2021-07-03T01:18:02.123456')\n",
    "dt.year                   # 2021\n",
    "dt.month                  # 7\n",
    "dt.day                    # 3\n",
    "dt.hour                   # 1\n",
    "dt.minute                 # 18\n",
    "dt.second                 # 2\n",
    "dt.microsecond            # 123456\n",
    "dt.day_of_week            # 6\n",
    "dt.day_of_year            # 184\n",
    "dt.week_of_month          # 1\n",
    "dt.week_of_year           # 26\n",
    "dt.days_in_month          # 31\n",
    "dt.quarter                # 3\n",
    "dt.timezone               # Timezone('UTC')\n",
    "dt.timestamp()            # 1625275082.123456\n",
    "dt.float_timestamp        # 1625275082.123456\n",
    "dt.int_timestamp          # 1625275082 (truncate the microseconds)"
   ]
  },
  {
   "cell_type": "markdown",
   "metadata": {},
   "source": [
    "### Duration\n",
    "\n",
    "The `Duration` class inherits from the `timedelta` class.  \n",
    "It represents a time interval without a specific start or end date (like \"2 weeks\" or \"10 min\")."
   ]
  },
  {
   "cell_type": "code",
   "execution_count": 131,
   "metadata": {},
   "outputs": [
    {
     "data": {
      "text/plain": [
       "'1 year 6 months 3 days'"
      ]
     },
     "execution_count": 131,
     "metadata": {},
     "output_type": "execute_result"
    }
   ],
   "source": [
    "duration = pendulum.duration(years=1, months=6, days=3)\n",
    "\n",
    "# Most fields only show the values specified in the constructor\n",
    "duration.years                                       # 1\n",
    "duration.months                                      # 6\n",
    "duration.minutes                                     # 0\n",
    "duration.seconds                                     # 0\n",
    "\n",
    "# days is an exception (like in timedelta), it sums days from months and years\n",
    "duration.days                                        # 548  \n",
    "\n",
    "# Methods to convert the total duration in a given unit\n",
    "duration.in_days()                                   # 548\n",
    "duration.in_minutes()                                # 789120\n",
    "duration.in_seconds()                                # 47347200\n",
    "\n",
    "# Human readable duration\n",
    "duration.in_words()                                  # '1 year 6 months 3 days'"
   ]
  },
  {
   "cell_type": "markdown",
   "metadata": {},
   "source": [
    "### Periods\n",
    "\n",
    "The `Period` class inherits from the `Duration` class.  \n",
    "It represents the period from a start datetime to an end datetime.  \n",
    "It is aware of its start/end datetime so we can iterate over its days/hours/minutes..."
   ]
  },
  {
   "cell_type": "code",
   "execution_count": 132,
   "metadata": {},
   "outputs": [
    {
     "name": "stdout",
     "output_type": "stream",
     "text": [
      "2021-07-03T20:18:50.774772+09:00\n",
      "2021-07-04T20:18:50.774772+09:00\n",
      "2021-07-05T20:18:50.774772+09:00\n",
      "2021-07-06T20:18:50.774772+09:00\n",
      "2021-07-07T20:18:50.774772+09:00\n",
      "2021-07-08T20:18:50.774772+09:00\n"
     ]
    }
   ],
   "source": [
    "# Period creation\n",
    "start = pendulum.now()\n",
    "end   = start.add(days=5)\n",
    "period = end - start                         # define by subtraction\n",
    "period = pendulum.period(start, end)         # define by constructor\n",
    "period = end.diff(start)                     # define with the diff() operation\n",
    "\n",
    "# Iterate over the period\n",
    "for day in period.range('days'):             # can be years, months, weeks, days, hours, minutes, seconds\n",
    "    print(day)"
   ]
  }
 ],
 "metadata": {
  "kernelspec": {
   "display_name": "Python 3",
   "language": "python",
   "name": "python3"
  },
  "language_info": {
   "codemirror_mode": {
    "name": "ipython",
    "version": 3
   },
   "file_extension": ".py",
   "mimetype": "text/x-python",
   "name": "python",
   "nbconvert_exporter": "python",
   "pygments_lexer": "ipython3",
   "version": "3.8.6"
  }
 },
 "nbformat": 4,
 "nbformat_minor": 4
}
