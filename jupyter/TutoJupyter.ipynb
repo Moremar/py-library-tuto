{
 "cells": [
  {
   "cell_type": "markdown",
   "metadata": {},
   "source": [
    "# Jupyter Notebooks\n",
    "\n",
    "### Terminal Commands\n",
    "\n",
    "Create a Jupyter notebook in a folder :  `jupyter notebook`\n",
    "\n",
    "Open an existing Jupyter notebook :      `jupyter notebook MyNotebook.ipynb`\n",
    "\n",
    "\n",
    "### Jupyter Notebook\n",
    "\n",
    "The above commands open a file manager in the browser allowing to create some notebooks. \\\n",
    "Jupyter support over 100 languages (Python, Java, Julia, R...). \\\n",
    "A notebook contains a successsion of cells (code or markdown).\n",
    "\n",
    "\n",
    "### Actions\n",
    "\n",
    "##### In Command mode\n",
    "\n",
    "* `Enter` : Switch to Edit mode in the selected cell\n",
    "* `H` : Open the shortcuts help\n",
    "* `Up/Down` : Select above of below cell\n",
    "* `A/B` : Insert a cell above or below\n",
    "* `X` : Delete selected cell\n",
    "* `Y` : Set selected cell type to Code\n",
    "* `M` : Set selected cell type to Markdown\n",
    "* `S` : Save the notebook\n",
    "* `P` : Open the command palette (search commands by name)\n",
    "\n",
    "##### In Edit mode\n",
    "\n",
    "* `Esc` : Switch to Command mode\n",
    "* `Command + Left/Right` : Go to the beginning or end of the line\n",
    "* `Shift + Enter` : Run the current cell and switch to Command mode\n",
    "\n",
    "\n",
    "### Code cells\n",
    "\n",
    "We can define variables/functions/imports executed in a code cell :"
   ]
  },
  {
   "cell_type": "code",
   "execution_count": 4,
   "metadata": {},
   "outputs": [],
   "source": [
    "def multiply(numbers):\n",
    "    res = 1\n",
    "    for number in numbers:\n",
    "        res *= number\n",
    "    return res"
   ]
  },
  {
   "cell_type": "markdown",
   "metadata": {},
   "source": [
    "Then we can use it in a later code cell. \\\n",
    "The last line is evaluated and shown in the output."
   ]
  },
  {
   "cell_type": "code",
   "execution_count": 7,
   "metadata": {},
   "outputs": [
    {
     "data": {
      "text/plain": [
       "24"
      ]
     },
     "execution_count": 7,
     "metadata": {},
     "output_type": "execute_result"
    }
   ],
   "source": [
    "multiply([1, 2, 3, 4])"
   ]
  },
  {
   "cell_type": "markdown",
   "metadata": {},
   "source": [
    "We can use the magic command `%matplotlib inline` so the plots are displayed in Jupyter :"
   ]
  },
  {
   "cell_type": "code",
   "execution_count": 10,
   "metadata": {},
   "outputs": [
    {
     "data": {
      "image/png": "[encoded data removed]",
      "text/plain": [
       "<Figure size 432x288 with 1 Axes>"
      ]
     },
     "metadata": {
      "needs_background": "light"
     },
     "output_type": "display_data"
    }
   ],
   "source": [
    "# Jupyter magic command\n",
    "%matplotlib inline\n",
    "\n",
    "# library to create graphs\n",
    "import matplotlib.pyplot as plt\n",
    "\n",
    "plot = plt.bar([1,2, 3], [10, 15, 40], tick_label=[\"Blue\",\"Red\", \"Green\"])"
   ]
  }
 ],
 "metadata": {
  "kernelspec": {
   "display_name": "Python 3",
   "language": "python",
   "name": "python3"
  },
  "language_info": {
   "codemirror_mode": {
    "name": "ipython",
    "version": 3
   },
   "file_extension": ".py",
   "mimetype": "text/x-python",
   "name": "python",
   "nbconvert_exporter": "python",
   "pygments_lexer": "ipython3",
   "version": "3.8.6"
  }
 },
 "nbformat": 4,
 "nbformat_minor": 4
}
