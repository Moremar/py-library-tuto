{
 "cells": [
  {
   "cell_type": "markdown",
   "id": "63899125",
   "metadata": {},
   "source": [
    "# Python tips\n",
    "\n",
    "This page gathers some tips that can be useful when coding in Python.\n",
    "\n",
    "\n",
    "### Dynamic attributes with setattr / getattr\n",
    "\n",
    "We can set or get an attribute with a name specified dynamically using `setattr()` and `getattr()` functions."
   ]
  },
  {
   "cell_type": "code",
   "execution_count": 4,
   "id": "973fcb3a",
   "metadata": {},
   "outputs": [
    {
     "name": "stdout",
     "output_type": "stream",
     "text": [
      "Fixed attribute = 1\n",
      "Dynamic attribute = 2\n"
     ]
    }
   ],
   "source": [
    "class Person:\n",
    "    pass\n",
    "\n",
    "person = Person()\n",
    "\n",
    "# set/get an attribute with a fixed name\n",
    "person.attr1 = 1\n",
    "print('Fixed attribute =', person.attr1)\n",
    "\n",
    "# set/get an attribute with a dynamic name\n",
    "setattr(person, 'attr2', 2)\n",
    "print('Dynamic attribute =', getattr(person, 'attr2'))"
   ]
  },
  {
   "cell_type": "markdown",
   "id": "b155bc9a",
   "metadata": {},
   "source": [
    "### Password input\n",
    "\n",
    "When a script requires to enter a password, using the built-in `input()` function is not good, because it shows the password on the screen.   \n",
    "Instead we can use the `getpass()` function that will hide the password."
   ]
  },
  {
   "cell_type": "code",
   "execution_count": 9,
   "id": "06b456e8",
   "metadata": {},
   "outputs": [
    {
     "name": "stdout",
     "output_type": "stream",
     "text": [
      "Password : abcd\n",
      "Login with password :  abcd\n",
      "Password : ········\n",
      "Login with password :  abcd\n"
     ]
    }
   ],
   "source": [
    "from getpass import getpass\n",
    "\n",
    "# using input() : the password appears in clear\n",
    "pwd = input('Password : ')\n",
    "print('Login with password : ', pwd)\n",
    "\n",
    "# using getpass() : the password appears in clear\n",
    "pwd = getpass('Password : ')\n",
    "print('Login with password : ', pwd)"
   ]
  },
  {
   "cell_type": "markdown",
   "id": "528eae60",
   "metadata": {},
   "source": [
    "### Getter / Setter / Deleter for Python class\n",
    "\n",
    "Sometimes, a field of a Python class needs to be calculated from the value of other fields.  \n",
    "If we just set it in the constructor, it will not be updated when one of the dependant fields is updated.  \n",
    "To solve this, we can define the field as a method with the `@property` decorator so it can be accessed without brackets.\n",
    "\n",
    "We can also define a setter and a deleter for these property fields with the `@<fieldname>.setter` and `@<fieldname>.deleter` decorators to perform an action on the dependant fields when the field is set or deleted."
   ]
  },
  {
   "cell_type": "code",
   "execution_count": 14,
   "id": "0691b8b5",
   "metadata": {},
   "outputs": [
    {
     "name": "stdout",
     "output_type": "stream",
     "text": [
      "Person(firstname=John, lastname=Smith, fullname=John Smith)\n",
      "Person(firstname=Jack, lastname=Black, fullname=Jack Black)\n",
      "Person(firstname=None, lastname=None, fullname=None None)\n"
     ]
    }
   ],
   "source": [
    "class Person:\n",
    "    def __init__(self, firstname, lastname):\n",
    "        self.firstname = firstname\n",
    "        self.lastname = lastname\n",
    "    \n",
    "    @property\n",
    "    def fullname(self):\n",
    "        return f'{self.firstname} {self.lastname}'\n",
    "    \n",
    "    @fullname.setter\n",
    "    def fullname(self, val):\n",
    "        self.firstname, self.lastname = val.split(' ')\n",
    "        \n",
    "    @fullname.deleter\n",
    "    def fullname(self):\n",
    "        self.firstname, self.lastname = None, None\n",
    "\n",
    "    def __repr__(self):\n",
    "        return f'Person(firstname={self.firstname}, lastname={self.lastname}, fullname={self.fullname})'\n",
    "    \n",
    "\n",
    "# Getter\n",
    "person = Person('John', 'Smith')\n",
    "print(person)\n",
    "\n",
    "# Setter\n",
    "person.fullname = 'Jack Black'\n",
    "print(person)\n",
    "\n",
    "# Deleter\n",
    "del person.fullname\n",
    "print(person)"
   ]
  },
  {
   "cell_type": "markdown",
   "id": "13bdca31",
   "metadata": {},
   "source": [
    "### File Manipulation\n",
    "\n"
   ]
  },
  {
   "cell_type": "code",
   "execution_count": 22,
   "id": "266750bb",
   "metadata": {},
   "outputs": [],
   "source": [
    "# Simple approach : open the file, use it and close it\n",
    "f = open('test.txt', 'w')\n",
    "f.write('Hello,\\nWorld!')\n",
    "f.close()\n",
    "\n",
    "# Better approach using a context manager closing the file automatically\n",
    "with open('test.txt', 'r') as f:\n",
    "    content = f.read()\n",
    "\n",
    "# Read file content\n",
    "with open('test.txt', 'r') as f:\n",
    "    content = f.read()                # entire file as a string\n",
    "    first_10_chars = f.read(10)       # read the next N characters\n",
    "    line = f.readline()               # read the next line\n",
    "    lines = f.readlines()             # list of all lines\n",
    "    for line in f :                   # iterate on all lines\n",
    "        pass\n",
    "\n",
    "# Navigate in the file\n",
    "with open('test.txt', 'r') as f:\n",
    "    line1 = f.readline()\n",
    "    f.seek(0)                         # Move the file cursor to a given position\n",
    "    line1_again = f.readline()\n"
   ]
  },
  {
   "cell_type": "markdown",
   "id": "08a3a67d",
   "metadata": {},
   "source": [
    "### Running Python system modules\n",
    "\n",
    "Running a custom python module is done with the command : `python3 module.py`\n",
    "\n",
    "Sometimes we need to run a system module that we did not write ourselves, this is done with `python3 -m <module>`.\n",
    "\n",
    "A few examples are :\n",
    "- Starting a local mail server : `python3 -m smtpd -c DebuggingServer -n localhost:1025`\n",
    "- Creating a virtual environment : `python3 -m venv proj_folder/venv`\n",
    "- Running the unit tests : `python3 -m unittest -v`\n",
    "\n",
    "We can get detailled information on the arguments these modules can take by importing them in a Python interactive shell and call `help()` :  \n",
    "`python3`  \n",
    "`$> import smtpd`  \n",
    "`$> help(smtpd)`  "
   ]
  },
  {
   "cell_type": "markdown",
   "id": "1ab58df8",
   "metadata": {},
   "source": [
    "### Add a cache to a function\n",
    "\n",
    "We can use decorator `lru_cache(maxsize=128)` (least-recently used cache) from the `functools` package.  \n",
    "It will keep in cache the results of the function for the most used parameters (up to `maxsize` elements).\n",
    "\n",
    "The decorator `@cache` is a shortcut for `@lru_cache(maxsize=None)`, that will store all results of the function.\n"
   ]
  },
  {
   "cell_type": "code",
   "execution_count": 28,
   "id": "80b48710",
   "metadata": {},
   "outputs": [
    {
     "name": "stdout",
     "output_type": "stream",
     "text": [
      "fibo(36)\n",
      "No cache         : 3.43586 sec\n",
      "Cache (size 10)  : 0.00009 sec\n",
      "Cache (infinite) : 0.00007 sec\n",
      "\n",
      "fibo(1000)\n",
      "Cache (size 10)  : 0.00103 sec\n",
      "Cache (infinite) : 0.00074 sec\n"
     ]
    }
   ],
   "source": [
    "from time import time\n",
    "from functools import lru_cache, cache\n",
    "\n",
    "\n",
    "def fibo_1(n):\n",
    "    \"\"\"Naive Fibonacci function with no cache\"\"\"\n",
    "    return 1 if n < 3 else fibo_1(n-1) + fibo_1(n-2)\n",
    "\n",
    "@lru_cache(maxsize=10)\n",
    "def fibo_2(n):\n",
    "    \"\"\"Fibonacci function caching up to 10 results\"\"\"\n",
    "    return 1 if n < 3 else fibo_2(n-1) + fibo_2(n-2)\n",
    "\n",
    "@cache\n",
    "def fibo_3(n):\n",
    "    \"\"\"Fibonacci function caching all results\"\"\"\n",
    "    return 1 if n < 3 else fibo_3(n-1) + fibo_3(n-2)\n",
    "\n",
    "\n",
    "print('fibo(36)')\n",
    "\n",
    "start = time()\n",
    "res = fibo_1(36)\n",
    "print('No cache         :', '{:.5f} sec'.format(time() - start))\n",
    "\n",
    "start = time()\n",
    "res = fibo_2(36)\n",
    "print('Cache (size 10)  :', '{:.5f} sec'.format(time() - start))\n",
    "\n",
    "start = time()\n",
    "res = fibo_3(36)\n",
    "print('Cache (infinite) :', '{:.5f} sec'.format(time() - start))\n",
    "\n",
    "\n",
    "print('\\nfibo(1500)')\n",
    "\n",
    "start = time()\n",
    "res = fibo_2(1500)\n",
    "print('Cache (size 10)  :', '{:.5f} sec'.format(time() - start))\n",
    "\n",
    "start = time()\n",
    "res = fibo_3(1500)\n",
    "print('Cache (infinite) :', '{:.5f} sec'.format(time() - start))"
   ]
  },
  {
   "cell_type": "markdown",
   "id": "4d7be4da",
   "metadata": {},
   "source": [
    "### Double-ended queues\n",
    "\n",
    "The `collections` package contains a `deque` class (double-ended queue) that represents doubly linked lists.  \n",
    "It performs O(1) read/insert/delete operations on both ends of the deque.\n",
    "\n",
    "It can be used to implement a queue (FIFO) or a stack (LIFO)."
   ]
  },
  {
   "cell_type": "code",
   "execution_count": 1,
   "id": "60872c0c",
   "metadata": {},
   "outputs": [],
   "source": [
    "from collections import deque\n",
    "\n",
    "# FIFO\n",
    "queue = deque(['Tom', 'Mary', 'Sara'])\n",
    "queue.append('James')      # Add a person at the rear of the queue\n",
    "tom = queue.popleft()      # Delete a person at the front of the queue\n",
    "\n",
    "# LIFO\n",
    "stack = deque(['layer1, layer2'])\n",
    "stack.append('layer3')\n",
    "layer3 = stack.pop()"
   ]
  }
 ],
 "metadata": {
  "kernelspec": {
   "display_name": "Python 3 (ipykernel)",
   "language": "python",
   "name": "python3"
  },
  "language_info": {
   "codemirror_mode": {
    "name": "ipython",
    "version": 3
   },
   "file_extension": ".py",
   "mimetype": "text/x-python",
   "name": "python",
   "nbconvert_exporter": "python",
   "pygments_lexer": "ipython3",
   "version": "3.9.6"
  }
 },
 "nbformat": 4,
 "nbformat_minor": 5
}
